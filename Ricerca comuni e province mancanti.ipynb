{
 "cells": [
  {
   "cell_type": "markdown",
   "metadata": {},
   "source": [
    "<h2> CREAZIONE LISTA 7352 COMUNI </h2>"
   ]
  },
  {
   "cell_type": "markdown",
   "metadata": {},
   "source": [
    "<p> Ricavo dal Dataframe dei decessi totale dal 2015 al 30 giugno 2020 le lista dei comuni presenti che sono 7352. </p>"
   ]
  },
  {
   "cell_type": "code",
   "execution_count": 74,
   "metadata": {},
   "outputs": [
    {
     "data": {
      "text/html": [
       "<div>\n",
       "<style scoped>\n",
       "    .dataframe tbody tr th:only-of-type {\n",
       "        vertical-align: middle;\n",
       "    }\n",
       "\n",
       "    .dataframe tbody tr th {\n",
       "        vertical-align: top;\n",
       "    }\n",
       "\n",
       "    .dataframe thead th {\n",
       "        text-align: right;\n",
       "    }\n",
       "</style>\n",
       "<table border=\"1\" class=\"dataframe\">\n",
       "  <thead>\n",
       "    <tr style=\"text-align: right;\">\n",
       "      <th></th>\n",
       "      <th>REG</th>\n",
       "      <th>NOME_REGIONE</th>\n",
       "      <th>PROV</th>\n",
       "      <th>NOME_PROVINCIA</th>\n",
       "      <th>COD_PROVCOM</th>\n",
       "      <th>NOME_COMUNE</th>\n",
       "      <th>DATA</th>\n",
       "      <th>TOTALE</th>\n",
       "    </tr>\n",
       "  </thead>\n",
       "  <tbody>\n",
       "    <tr>\n",
       "      <th>0</th>\n",
       "      <td>1</td>\n",
       "      <td>Piemonte</td>\n",
       "      <td>1</td>\n",
       "      <td>Torino</td>\n",
       "      <td>1001</td>\n",
       "      <td>Agliè</td>\n",
       "      <td>2018-01-02</td>\n",
       "      <td>1</td>\n",
       "    </tr>\n",
       "    <tr>\n",
       "      <th>1</th>\n",
       "      <td>1</td>\n",
       "      <td>Piemonte</td>\n",
       "      <td>1</td>\n",
       "      <td>Torino</td>\n",
       "      <td>1001</td>\n",
       "      <td>Agliè</td>\n",
       "      <td>2016-01-04</td>\n",
       "      <td>1</td>\n",
       "    </tr>\n",
       "    <tr>\n",
       "      <th>2</th>\n",
       "      <td>1</td>\n",
       "      <td>Piemonte</td>\n",
       "      <td>1</td>\n",
       "      <td>Torino</td>\n",
       "      <td>1001</td>\n",
       "      <td>Agliè</td>\n",
       "      <td>2020-01-05</td>\n",
       "      <td>1</td>\n",
       "    </tr>\n",
       "    <tr>\n",
       "      <th>3</th>\n",
       "      <td>1</td>\n",
       "      <td>Piemonte</td>\n",
       "      <td>1</td>\n",
       "      <td>Torino</td>\n",
       "      <td>1001</td>\n",
       "      <td>Agliè</td>\n",
       "      <td>2015-01-06</td>\n",
       "      <td>1</td>\n",
       "    </tr>\n",
       "    <tr>\n",
       "      <th>4</th>\n",
       "      <td>1</td>\n",
       "      <td>Piemonte</td>\n",
       "      <td>1</td>\n",
       "      <td>Torino</td>\n",
       "      <td>1001</td>\n",
       "      <td>Agliè</td>\n",
       "      <td>2018-01-06</td>\n",
       "      <td>2</td>\n",
       "    </tr>\n",
       "  </tbody>\n",
       "</table>\n",
       "</div>"
      ],
      "text/plain": [
       "   REG NOME_REGIONE  PROV NOME_PROVINCIA  COD_PROVCOM NOME_COMUNE        DATA  \\\n",
       "0    1     Piemonte     1         Torino         1001       Agliè  2018-01-02   \n",
       "1    1     Piemonte     1         Torino         1001       Agliè  2016-01-04   \n",
       "2    1     Piemonte     1         Torino         1001       Agliè  2020-01-05   \n",
       "3    1     Piemonte     1         Torino         1001       Agliè  2015-01-06   \n",
       "4    1     Piemonte     1         Torino         1001       Agliè  2018-01-06   \n",
       "\n",
       "   TOTALE  \n",
       "0       1  \n",
       "1       1  \n",
       "2       1  \n",
       "3       1  \n",
       "4       2  "
      ]
     },
     "execution_count": 74,
     "metadata": {},
     "output_type": "execute_result"
    }
   ],
   "source": [
    "import pandas as pd\n",
    "df = pd.read_csv('csv/decessi_istat_7352comuni.csv')\n",
    "df.head()"
   ]
  },
  {
   "cell_type": "markdown",
   "metadata": {},
   "source": [
    "<p> Prendo in esame il periodo fino al 30 aprile per poter fare il confronto nello stesso periodo nel DataFrame con 7898 comuni. </p> "
   ]
  },
  {
   "cell_type": "code",
   "execution_count": 75,
   "metadata": {},
   "outputs": [],
   "source": [
    "df['DATA'] = pd.to_datetime(df['DATA'])\n",
    "df_data = df[df['DATA'] < '2020-05-01']"
   ]
  },
  {
   "cell_type": "code",
   "execution_count": 76,
   "metadata": {},
   "outputs": [
    {
     "data": {
      "text/plain": [
       "array(['Agliè', 'Airasca', 'Ala di Stura', ..., 'Villasimius', 'Villasor',\n",
       "       'Villaspeciosa'], dtype=object)"
      ]
     },
     "execution_count": 76,
     "metadata": {},
     "output_type": "execute_result"
    }
   ],
   "source": [
    "comuni = df_data['NOME_COMUNE'].unique()\n",
    "comuni"
   ]
  },
  {
   "cell_type": "code",
   "execution_count": 77,
   "metadata": {},
   "outputs": [
    {
     "data": {
      "text/plain": [
       "7352"
      ]
     },
     "execution_count": 77,
     "metadata": {},
     "output_type": "execute_result"
    }
   ],
   "source": [
    "len(comuni)"
   ]
  },
  {
   "cell_type": "markdown",
   "metadata": {},
   "source": [
    "<p> La lista <b> comuni </b> contiene i 7352 comuni presenti del DataFrame dal 2015 al 30 giugno 2020. </p>"
   ]
  },
  {
   "cell_type": "markdown",
   "metadata": {},
   "source": [
    "<h2> RICERCA DEI COMUNI MANCANTI </h2>"
   ]
  },
  {
   "cell_type": "code",
   "execution_count": 78,
   "metadata": {},
   "outputs": [
    {
     "data": {
      "text/html": [
       "<div>\n",
       "<style scoped>\n",
       "    .dataframe tbody tr th:only-of-type {\n",
       "        vertical-align: middle;\n",
       "    }\n",
       "\n",
       "    .dataframe tbody tr th {\n",
       "        vertical-align: top;\n",
       "    }\n",
       "\n",
       "    .dataframe thead th {\n",
       "        text-align: right;\n",
       "    }\n",
       "</style>\n",
       "<table border=\"1\" class=\"dataframe\">\n",
       "  <thead>\n",
       "    <tr style=\"text-align: right;\">\n",
       "      <th></th>\n",
       "      <th>REG</th>\n",
       "      <th>PROV</th>\n",
       "      <th>NOME_REGIONE</th>\n",
       "      <th>NOME_PROVINCIA</th>\n",
       "      <th>NOME_COMUNE</th>\n",
       "      <th>COD_PROVCOM</th>\n",
       "      <th>TIPO_COMUNE</th>\n",
       "      <th>CL_ETA</th>\n",
       "      <th>GE</th>\n",
       "      <th>Data</th>\n",
       "      <th>Maschi</th>\n",
       "      <th>Femmine</th>\n",
       "      <th>Totale</th>\n",
       "    </tr>\n",
       "  </thead>\n",
       "  <tbody>\n",
       "    <tr>\n",
       "      <th>0</th>\n",
       "      <td>1</td>\n",
       "      <td>1</td>\n",
       "      <td>Piemonte</td>\n",
       "      <td>Torino</td>\n",
       "      <td>Agliè</td>\n",
       "      <td>1001</td>\n",
       "      <td>1</td>\n",
       "      <td>7</td>\n",
       "      <td>609</td>\n",
       "      <td>09-06-2015</td>\n",
       "      <td>0</td>\n",
       "      <td>0</td>\n",
       "      <td>0</td>\n",
       "    </tr>\n",
       "    <tr>\n",
       "      <th>1</th>\n",
       "      <td>1</td>\n",
       "      <td>1</td>\n",
       "      <td>Piemonte</td>\n",
       "      <td>Torino</td>\n",
       "      <td>Agliè</td>\n",
       "      <td>1001</td>\n",
       "      <td>1</td>\n",
       "      <td>7</td>\n",
       "      <td>609</td>\n",
       "      <td>09-06-2016</td>\n",
       "      <td>0</td>\n",
       "      <td>0</td>\n",
       "      <td>0</td>\n",
       "    </tr>\n",
       "    <tr>\n",
       "      <th>2</th>\n",
       "      <td>1</td>\n",
       "      <td>1</td>\n",
       "      <td>Piemonte</td>\n",
       "      <td>Torino</td>\n",
       "      <td>Agliè</td>\n",
       "      <td>1001</td>\n",
       "      <td>1</td>\n",
       "      <td>7</td>\n",
       "      <td>609</td>\n",
       "      <td>09-06-2017</td>\n",
       "      <td>0</td>\n",
       "      <td>0</td>\n",
       "      <td>0</td>\n",
       "    </tr>\n",
       "    <tr>\n",
       "      <th>3</th>\n",
       "      <td>1</td>\n",
       "      <td>1</td>\n",
       "      <td>Piemonte</td>\n",
       "      <td>Torino</td>\n",
       "      <td>Agliè</td>\n",
       "      <td>1001</td>\n",
       "      <td>1</td>\n",
       "      <td>7</td>\n",
       "      <td>609</td>\n",
       "      <td>09-06-2018</td>\n",
       "      <td>0</td>\n",
       "      <td>0</td>\n",
       "      <td>0</td>\n",
       "    </tr>\n",
       "    <tr>\n",
       "      <th>4</th>\n",
       "      <td>1</td>\n",
       "      <td>1</td>\n",
       "      <td>Piemonte</td>\n",
       "      <td>Torino</td>\n",
       "      <td>Agliè</td>\n",
       "      <td>1001</td>\n",
       "      <td>1</td>\n",
       "      <td>7</td>\n",
       "      <td>609</td>\n",
       "      <td>09-06-2019</td>\n",
       "      <td>1</td>\n",
       "      <td>0</td>\n",
       "      <td>1</td>\n",
       "    </tr>\n",
       "  </tbody>\n",
       "</table>\n",
       "</div>"
      ],
      "text/plain": [
       "   REG  PROV NOME_REGIONE NOME_PROVINCIA NOME_COMUNE  COD_PROVCOM  \\\n",
       "0    1     1     Piemonte         Torino       Agliè         1001   \n",
       "1    1     1     Piemonte         Torino       Agliè         1001   \n",
       "2    1     1     Piemonte         Torino       Agliè         1001   \n",
       "3    1     1     Piemonte         Torino       Agliè         1001   \n",
       "4    1     1     Piemonte         Torino       Agliè         1001   \n",
       "\n",
       "   TIPO_COMUNE  CL_ETA   GE        Data Maschi Femmine Totale  \n",
       "0            1       7  609  09-06-2015      0       0      0  \n",
       "1            1       7  609  09-06-2016      0       0      0  \n",
       "2            1       7  609  09-06-2017      0       0      0  \n",
       "3            1       7  609  09-06-2018      0       0      0  \n",
       "4            1       7  609  09-06-2019      1       0      1  "
      ]
     },
     "execution_count": 78,
     "metadata": {},
     "output_type": "execute_result"
    }
   ],
   "source": [
    "df2 = pd.read_csv('csv/decessi.csv', encoding = \"ISO-8859-1\")\n",
    "df2.head()"
   ]
  },
  {
   "cell_type": "code",
   "execution_count": 79,
   "metadata": {},
   "outputs": [
    {
     "data": {
      "text/plain": [
       "7898"
      ]
     },
     "execution_count": 79,
     "metadata": {},
     "output_type": "execute_result"
    }
   ],
   "source": [
    "#Numero totale di comuni \n",
    "len(df2['NOME_COMUNE'].unique())"
   ]
  },
  {
   "cell_type": "code",
   "execution_count": 80,
   "metadata": {},
   "outputs": [
    {
     "data": {
      "text/plain": [
       "107"
      ]
     },
     "execution_count": 80,
     "metadata": {},
     "output_type": "execute_result"
    }
   ],
   "source": [
    "#Numero totale delle province\n",
    "len(df2['NOME_PROVINCIA'].unique())"
   ]
  },
  {
   "cell_type": "code",
   "execution_count": 81,
   "metadata": {},
   "outputs": [
    {
     "data": {
      "text/html": [
       "<div>\n",
       "<style scoped>\n",
       "    .dataframe tbody tr th:only-of-type {\n",
       "        vertical-align: middle;\n",
       "    }\n",
       "\n",
       "    .dataframe tbody tr th {\n",
       "        vertical-align: top;\n",
       "    }\n",
       "\n",
       "    .dataframe thead th {\n",
       "        text-align: right;\n",
       "    }\n",
       "</style>\n",
       "<table border=\"1\" class=\"dataframe\">\n",
       "  <thead>\n",
       "    <tr style=\"text-align: right;\">\n",
       "      <th></th>\n",
       "      <th>REG</th>\n",
       "      <th>PROV</th>\n",
       "      <th>NOME_REGIONE</th>\n",
       "      <th>NOME_PROVINCIA</th>\n",
       "      <th>NOME_COMUNE</th>\n",
       "      <th>COD_PROVCOM</th>\n",
       "      <th>TIPO_COMUNE</th>\n",
       "      <th>CL_ETA</th>\n",
       "      <th>GE</th>\n",
       "      <th>Data</th>\n",
       "      <th>Maschi</th>\n",
       "      <th>Femmine</th>\n",
       "      <th>Totale</th>\n",
       "    </tr>\n",
       "  </thead>\n",
       "  <tbody>\n",
       "    <tr>\n",
       "      <th>17250</th>\n",
       "      <td>1</td>\n",
       "      <td>1</td>\n",
       "      <td>Piemonte</td>\n",
       "      <td>Torino</td>\n",
       "      <td>Balangero</td>\n",
       "      <td>1016</td>\n",
       "      <td>2</td>\n",
       "      <td>6</td>\n",
       "      <td>821</td>\n",
       "      <td>21-08-2015</td>\n",
       "      <td>0</td>\n",
       "      <td>0</td>\n",
       "      <td>0</td>\n",
       "    </tr>\n",
       "    <tr>\n",
       "      <th>17251</th>\n",
       "      <td>1</td>\n",
       "      <td>1</td>\n",
       "      <td>Piemonte</td>\n",
       "      <td>Torino</td>\n",
       "      <td>Balangero</td>\n",
       "      <td>1016</td>\n",
       "      <td>2</td>\n",
       "      <td>6</td>\n",
       "      <td>821</td>\n",
       "      <td>21-08-2016</td>\n",
       "      <td>0</td>\n",
       "      <td>0</td>\n",
       "      <td>0</td>\n",
       "    </tr>\n",
       "    <tr>\n",
       "      <th>17252</th>\n",
       "      <td>1</td>\n",
       "      <td>1</td>\n",
       "      <td>Piemonte</td>\n",
       "      <td>Torino</td>\n",
       "      <td>Balangero</td>\n",
       "      <td>1016</td>\n",
       "      <td>2</td>\n",
       "      <td>6</td>\n",
       "      <td>821</td>\n",
       "      <td>21-08-2017</td>\n",
       "      <td>1</td>\n",
       "      <td>0</td>\n",
       "      <td>1</td>\n",
       "    </tr>\n",
       "    <tr>\n",
       "      <th>17253</th>\n",
       "      <td>1</td>\n",
       "      <td>1</td>\n",
       "      <td>Piemonte</td>\n",
       "      <td>Torino</td>\n",
       "      <td>Balangero</td>\n",
       "      <td>1016</td>\n",
       "      <td>2</td>\n",
       "      <td>6</td>\n",
       "      <td>821</td>\n",
       "      <td>21-08-2018</td>\n",
       "      <td>0</td>\n",
       "      <td>0</td>\n",
       "      <td>0</td>\n",
       "    </tr>\n",
       "    <tr>\n",
       "      <th>17254</th>\n",
       "      <td>1</td>\n",
       "      <td>1</td>\n",
       "      <td>Piemonte</td>\n",
       "      <td>Torino</td>\n",
       "      <td>Balangero</td>\n",
       "      <td>1016</td>\n",
       "      <td>2</td>\n",
       "      <td>6</td>\n",
       "      <td>821</td>\n",
       "      <td>21-08-2019</td>\n",
       "      <td>0</td>\n",
       "      <td>0</td>\n",
       "      <td>0</td>\n",
       "    </tr>\n",
       "  </tbody>\n",
       "</table>\n",
       "</div>"
      ],
      "text/plain": [
       "       REG  PROV NOME_REGIONE NOME_PROVINCIA NOME_COMUNE  COD_PROVCOM  \\\n",
       "17250    1     1     Piemonte         Torino   Balangero         1016   \n",
       "17251    1     1     Piemonte         Torino   Balangero         1016   \n",
       "17252    1     1     Piemonte         Torino   Balangero         1016   \n",
       "17253    1     1     Piemonte         Torino   Balangero         1016   \n",
       "17254    1     1     Piemonte         Torino   Balangero         1016   \n",
       "\n",
       "       TIPO_COMUNE  CL_ETA   GE        Data Maschi Femmine Totale  \n",
       "17250            2       6  821  21-08-2015      0       0      0  \n",
       "17251            2       6  821  21-08-2016      0       0      0  \n",
       "17252            2       6  821  21-08-2017      1       0      1  \n",
       "17253            2       6  821  21-08-2018      0       0      0  \n",
       "17254            2       6  821  21-08-2019      0       0      0  "
      ]
     },
     "execution_count": 81,
     "metadata": {},
     "output_type": "execute_result"
    }
   ],
   "source": [
    "comuni_mancanti = df2[df2['NOME_COMUNE'].isin(comuni) == False]\n",
    "comuni_mancanti.head()"
   ]
  },
  {
   "cell_type": "code",
   "execution_count": 82,
   "metadata": {},
   "outputs": [
    {
     "data": {
      "text/plain": [
       "546"
      ]
     },
     "execution_count": 82,
     "metadata": {},
     "output_type": "execute_result"
    }
   ],
   "source": [
    "len(comuni_mancanti['NOME_COMUNE'].unique())"
   ]
  },
  {
   "cell_type": "markdown",
   "metadata": {},
   "source": [
    "<p> Il DataFrame <b> comuni_mancanti </b> contiene tutti i comuni che non sono presenti nel DataFrame usato per l'analisi dei decessi.\n",
    "    <br />\n",
    "    Nello specifico, si tratta di <b>546</b> comuni.\n",
    "</p>"
   ]
  },
  {
   "cell_type": "markdown",
   "metadata": {},
   "source": [
    "<h3> Modifica del DataFrame comuni_mancanti </h3>"
   ]
  },
  {
   "cell_type": "code",
   "execution_count": 83,
   "metadata": {},
   "outputs": [
    {
     "name": "stderr",
     "output_type": "stream",
     "text": [
      "c:\\users\\monta\\appdata\\local\\programs\\python\\python38\\lib\\site-packages\\pandas\\core\\frame.py:3990: SettingWithCopyWarning: \n",
      "A value is trying to be set on a copy of a slice from a DataFrame\n",
      "\n",
      "See the caveats in the documentation: https://pandas.pydata.org/pandas-docs/stable/user_guide/indexing.html#returning-a-view-versus-a-copy\n",
      "  return super().drop(\n"
     ]
    },
    {
     "data": {
      "text/html": [
       "<div>\n",
       "<style scoped>\n",
       "    .dataframe tbody tr th:only-of-type {\n",
       "        vertical-align: middle;\n",
       "    }\n",
       "\n",
       "    .dataframe tbody tr th {\n",
       "        vertical-align: top;\n",
       "    }\n",
       "\n",
       "    .dataframe thead th {\n",
       "        text-align: right;\n",
       "    }\n",
       "</style>\n",
       "<table border=\"1\" class=\"dataframe\">\n",
       "  <thead>\n",
       "    <tr style=\"text-align: right;\">\n",
       "      <th></th>\n",
       "      <th>NOME_PROVINCIA</th>\n",
       "      <th>NOME_COMUNE</th>\n",
       "    </tr>\n",
       "  </thead>\n",
       "  <tbody>\n",
       "    <tr>\n",
       "      <th>17250</th>\n",
       "      <td>Torino</td>\n",
       "      <td>Balangero</td>\n",
       "    </tr>\n",
       "    <tr>\n",
       "      <th>17251</th>\n",
       "      <td>Torino</td>\n",
       "      <td>Balangero</td>\n",
       "    </tr>\n",
       "    <tr>\n",
       "      <th>17252</th>\n",
       "      <td>Torino</td>\n",
       "      <td>Balangero</td>\n",
       "    </tr>\n",
       "    <tr>\n",
       "      <th>17253</th>\n",
       "      <td>Torino</td>\n",
       "      <td>Balangero</td>\n",
       "    </tr>\n",
       "    <tr>\n",
       "      <th>17254</th>\n",
       "      <td>Torino</td>\n",
       "      <td>Balangero</td>\n",
       "    </tr>\n",
       "  </tbody>\n",
       "</table>\n",
       "</div>"
      ],
      "text/plain": [
       "      NOME_PROVINCIA NOME_COMUNE\n",
       "17250         Torino   Balangero\n",
       "17251         Torino   Balangero\n",
       "17252         Torino   Balangero\n",
       "17253         Torino   Balangero\n",
       "17254         Torino   Balangero"
      ]
     },
     "execution_count": 83,
     "metadata": {},
     "output_type": "execute_result"
    }
   ],
   "source": [
    "#elimino le colonne che al momento non ci interessano\n",
    "comuni_mancanti.drop(['REG', 'PROV', 'NOME_REGIONE', 'COD_PROVCOM', 'TIPO_COMUNE',\n",
    "                 'CL_ETA', 'GE', 'Maschi', 'Femmine', ' Data', 'Maschi', 'Femmine', 'Totale'], axis=1, inplace=True)\n",
    "comuni_mancanti.head()"
   ]
  },
  {
   "cell_type": "code",
   "execution_count": 84,
   "metadata": {},
   "outputs": [],
   "source": [
    "# salvo il DataFrame\n",
    "comuni_mancanti.to_csv('csv/comuni_province_mancanti.csv', index=False)"
   ]
  },
  {
   "cell_type": "markdown",
   "metadata": {},
   "source": [
    "<h3> RICERCA DELLE PROVINCE DI CUI NON ABBIAMO I DATI DI TUTTI I COMUNI CHE NE FANNO PARTE </h3>"
   ]
  },
  {
   "cell_type": "code",
   "execution_count": 85,
   "metadata": {},
   "outputs": [
    {
     "data": {
      "text/plain": [
       "array(['Torino', 'Vercelli', 'Novara', 'Cuneo', 'Asti', 'Alessandria',\n",
       "       \"Valle d'Aosta/Vallée d'Aoste\", 'Imperia', 'Savona', 'Genova',\n",
       "       'La Spezia', 'Varese', 'Como', 'Milano', 'Bergamo', 'Brescia',\n",
       "       'Pavia', 'Cremona', 'Mantova', 'Bolzano/Bozen', 'Trento', 'Verona',\n",
       "       'Vicenza', 'Belluno', 'Treviso', 'Venezia', 'Padova', 'Udine',\n",
       "       'Parma', \"Reggio nell'Emilia\", 'Modena', 'Bologna', 'Ferrara',\n",
       "       'Forlì-Cesena', 'Pesaro e Urbino', 'Ancona', 'Macerata',\n",
       "       'Ascoli Piceno', 'Massa-Carrara', 'Lucca', 'Pistoia', 'Firenze',\n",
       "       'Livorno', 'Pisa', 'Arezzo', 'Siena', 'Grosseto', 'Perugia',\n",
       "       'Terni', 'Viterbo', 'Rieti', 'Roma', 'Latina', 'Frosinone',\n",
       "       'Caserta', 'Benevento', 'Napoli', 'Avellino', 'Salerno',\n",
       "       \"L'Aquila\", 'Teramo', 'Pescara', 'Chieti', 'Campobasso', 'Foggia',\n",
       "       'Bari', 'Taranto', 'Brindisi', 'Lecce', 'Potenza', 'Matera',\n",
       "       'Cosenza', 'Catanzaro', 'Reggio Calabria', 'Trapani', 'Palermo',\n",
       "       'Messina', 'Agrigento', 'Caltanissetta', 'Enna', 'Catania',\n",
       "       'Siracusa', 'Sassari', 'Nuoro', 'Cagliari', 'Isernia', 'Oristano',\n",
       "       'Biella', 'Lecco', 'Lodi', 'Rimini', 'Prato', 'Crotone',\n",
       "       'Vibo Valentia', 'Verbano-Cusio-Ossola', 'Monza e della Brianza',\n",
       "       'Fermo', 'Barletta-Andria-Trani', 'Sud Sardegna'], dtype=object)"
      ]
     },
     "execution_count": 85,
     "metadata": {},
     "output_type": "execute_result"
    }
   ],
   "source": [
    "lista_province = comuni_mancanti['NOME_PROVINCIA'].unique()\n",
    "lista_province"
   ]
  },
  {
   "cell_type": "code",
   "execution_count": 86,
   "metadata": {},
   "outputs": [
    {
     "data": {
      "text/plain": [
       "99"
      ]
     },
     "execution_count": 86,
     "metadata": {},
     "output_type": "execute_result"
    }
   ],
   "source": [
    "len(lista_province)"
   ]
  },
  {
   "cell_type": "markdown",
   "metadata": {},
   "source": [
    "<p>La lista <b>lista_province</b> contiente il nome di tutte le province di cui non abbiamo i dati completi per ogni comune. Le province in questione risultano essere <b>99</b>. </p>"
   ]
  },
  {
   "cell_type": "markdown",
   "metadata": {},
   "source": [
    "<h2> ANALISI DEI DATI RICAVATI DALLA PROTEZIONE CIVILE SU BASE PROVINCIALE </h2>"
   ]
  },
  {
   "cell_type": "code",
   "execution_count": 87,
   "metadata": {},
   "outputs": [
    {
     "data": {
      "text/html": [
       "<div>\n",
       "<style scoped>\n",
       "    .dataframe tbody tr th:only-of-type {\n",
       "        vertical-align: middle;\n",
       "    }\n",
       "\n",
       "    .dataframe tbody tr th {\n",
       "        vertical-align: top;\n",
       "    }\n",
       "\n",
       "    .dataframe thead th {\n",
       "        text-align: right;\n",
       "    }\n",
       "</style>\n",
       "<table border=\"1\" class=\"dataframe\">\n",
       "  <thead>\n",
       "    <tr style=\"text-align: right;\">\n",
       "      <th></th>\n",
       "      <th>data</th>\n",
       "      <th>stato</th>\n",
       "      <th>codice_regione</th>\n",
       "      <th>denominazione_regione</th>\n",
       "      <th>codice_provincia</th>\n",
       "      <th>denominazione_provincia</th>\n",
       "      <th>sigla_provincia</th>\n",
       "      <th>lat</th>\n",
       "      <th>long</th>\n",
       "      <th>totale_casi</th>\n",
       "      <th>note</th>\n",
       "    </tr>\n",
       "  </thead>\n",
       "  <tbody>\n",
       "    <tr>\n",
       "      <th>0</th>\n",
       "      <td>2020-02-24T18:00:00</td>\n",
       "      <td>ITA</td>\n",
       "      <td>13</td>\n",
       "      <td>Abruzzo</td>\n",
       "      <td>66</td>\n",
       "      <td>L'Aquila</td>\n",
       "      <td>AQ</td>\n",
       "      <td>42.351222</td>\n",
       "      <td>13.398438</td>\n",
       "      <td>0</td>\n",
       "      <td>NaN</td>\n",
       "    </tr>\n",
       "    <tr>\n",
       "      <th>1</th>\n",
       "      <td>2020-02-24T18:00:00</td>\n",
       "      <td>ITA</td>\n",
       "      <td>13</td>\n",
       "      <td>Abruzzo</td>\n",
       "      <td>67</td>\n",
       "      <td>Teramo</td>\n",
       "      <td>TE</td>\n",
       "      <td>42.658918</td>\n",
       "      <td>13.704400</td>\n",
       "      <td>0</td>\n",
       "      <td>NaN</td>\n",
       "    </tr>\n",
       "    <tr>\n",
       "      <th>2</th>\n",
       "      <td>2020-02-24T18:00:00</td>\n",
       "      <td>ITA</td>\n",
       "      <td>13</td>\n",
       "      <td>Abruzzo</td>\n",
       "      <td>68</td>\n",
       "      <td>Pescara</td>\n",
       "      <td>PE</td>\n",
       "      <td>42.464584</td>\n",
       "      <td>14.213648</td>\n",
       "      <td>0</td>\n",
       "      <td>NaN</td>\n",
       "    </tr>\n",
       "    <tr>\n",
       "      <th>3</th>\n",
       "      <td>2020-02-24T18:00:00</td>\n",
       "      <td>ITA</td>\n",
       "      <td>13</td>\n",
       "      <td>Abruzzo</td>\n",
       "      <td>69</td>\n",
       "      <td>Chieti</td>\n",
       "      <td>CH</td>\n",
       "      <td>42.351032</td>\n",
       "      <td>14.167546</td>\n",
       "      <td>0</td>\n",
       "      <td>NaN</td>\n",
       "    </tr>\n",
       "    <tr>\n",
       "      <th>4</th>\n",
       "      <td>2020-02-24T18:00:00</td>\n",
       "      <td>ITA</td>\n",
       "      <td>13</td>\n",
       "      <td>Abruzzo</td>\n",
       "      <td>979</td>\n",
       "      <td>In fase di definizione/aggiornamento</td>\n",
       "      <td>NaN</td>\n",
       "      <td>NaN</td>\n",
       "      <td>NaN</td>\n",
       "      <td>0</td>\n",
       "      <td>NaN</td>\n",
       "    </tr>\n",
       "  </tbody>\n",
       "</table>\n",
       "</div>"
      ],
      "text/plain": [
       "                  data stato  codice_regione denominazione_regione  \\\n",
       "0  2020-02-24T18:00:00   ITA              13               Abruzzo   \n",
       "1  2020-02-24T18:00:00   ITA              13               Abruzzo   \n",
       "2  2020-02-24T18:00:00   ITA              13               Abruzzo   \n",
       "3  2020-02-24T18:00:00   ITA              13               Abruzzo   \n",
       "4  2020-02-24T18:00:00   ITA              13               Abruzzo   \n",
       "\n",
       "   codice_provincia               denominazione_provincia sigla_provincia  \\\n",
       "0                66                              L'Aquila              AQ   \n",
       "1                67                                Teramo              TE   \n",
       "2                68                               Pescara              PE   \n",
       "3                69                                Chieti              CH   \n",
       "4               979  In fase di definizione/aggiornamento             NaN   \n",
       "\n",
       "         lat       long  totale_casi note  \n",
       "0  42.351222  13.398438            0  NaN  \n",
       "1  42.658918  13.704400            0  NaN  \n",
       "2  42.464584  14.213648            0  NaN  \n",
       "3  42.351032  14.167546            0  NaN  \n",
       "4        NaN        NaN            0  NaN  "
      ]
     },
     "execution_count": 87,
     "metadata": {},
     "output_type": "execute_result"
    }
   ],
   "source": [
    "import pandas as pd \n",
    "df_covid = pd.read_csv('csv/covid19_province_ita.csv')\n",
    "df_covid.head()"
   ]
  },
  {
   "cell_type": "code",
   "execution_count": 88,
   "metadata": {},
   "outputs": [],
   "source": [
    "# elimino dalle province le voci\n",
    "df_covid = df_covid.set_index('denominazione_provincia')\n",
    "df_covid = df_covid.drop('Fuori Regione / Provincia Autonoma', axis=0)\n",
    "df_covid = df_covid.drop('In fase di definizione/aggiornamento', axis=0)\n",
    "df_covid = df_covid.reset_index()"
   ]
  },
  {
   "cell_type": "code",
   "execution_count": 89,
   "metadata": {},
   "outputs": [],
   "source": [
    "# modifico il formato delle date\n",
    "df_covid['data'] = pd.to_datetime(df_covid['data'], format='%Y-%m-%d')\n",
    "# elimino l'orario dal campo data\n",
    "df_covid['data'] = df_covid['data'].dt.strftime('%Y-%m-%d')\n",
    "# modifico il formato dei casi\n",
    "df_covid['totale_casi'] = pd.to_numeric(df_covid['totale_casi'])"
   ]
  },
  {
   "cell_type": "code",
   "execution_count": 90,
   "metadata": {},
   "outputs": [],
   "source": [
    "#prendo i valori fino al 30 giugno in quanto la ts dei decessi dei 7352 comuni termina il 30 giugno\n",
    "df_covid = df_covid[df_covid['data'] < '2020-07-01']"
   ]
  },
  {
   "cell_type": "code",
   "execution_count": 91,
   "metadata": {},
   "outputs": [
    {
     "data": {
      "text/html": [
       "<div>\n",
       "<style scoped>\n",
       "    .dataframe tbody tr th:only-of-type {\n",
       "        vertical-align: middle;\n",
       "    }\n",
       "\n",
       "    .dataframe tbody tr th {\n",
       "        vertical-align: top;\n",
       "    }\n",
       "\n",
       "    .dataframe thead th {\n",
       "        text-align: right;\n",
       "    }\n",
       "</style>\n",
       "<table border=\"1\" class=\"dataframe\">\n",
       "  <thead>\n",
       "    <tr style=\"text-align: right;\">\n",
       "      <th></th>\n",
       "      <th>denominazione_provincia</th>\n",
       "      <th>data</th>\n",
       "      <th>denominazione_regione</th>\n",
       "      <th>totale_casi</th>\n",
       "    </tr>\n",
       "  </thead>\n",
       "  <tbody>\n",
       "    <tr>\n",
       "      <th>0</th>\n",
       "      <td>L'Aquila</td>\n",
       "      <td>2020-02-24</td>\n",
       "      <td>Abruzzo</td>\n",
       "      <td>0</td>\n",
       "    </tr>\n",
       "    <tr>\n",
       "      <th>1</th>\n",
       "      <td>Teramo</td>\n",
       "      <td>2020-02-24</td>\n",
       "      <td>Abruzzo</td>\n",
       "      <td>0</td>\n",
       "    </tr>\n",
       "    <tr>\n",
       "      <th>2</th>\n",
       "      <td>Pescara</td>\n",
       "      <td>2020-02-24</td>\n",
       "      <td>Abruzzo</td>\n",
       "      <td>0</td>\n",
       "    </tr>\n",
       "    <tr>\n",
       "      <th>3</th>\n",
       "      <td>Chieti</td>\n",
       "      <td>2020-02-24</td>\n",
       "      <td>Abruzzo</td>\n",
       "      <td>0</td>\n",
       "    </tr>\n",
       "    <tr>\n",
       "      <th>4</th>\n",
       "      <td>Potenza</td>\n",
       "      <td>2020-02-24</td>\n",
       "      <td>Basilicata</td>\n",
       "      <td>0</td>\n",
       "    </tr>\n",
       "  </tbody>\n",
       "</table>\n",
       "</div>"
      ],
      "text/plain": [
       "  denominazione_provincia        data denominazione_regione  totale_casi\n",
       "0                L'Aquila  2020-02-24               Abruzzo            0\n",
       "1                  Teramo  2020-02-24               Abruzzo            0\n",
       "2                 Pescara  2020-02-24               Abruzzo            0\n",
       "3                  Chieti  2020-02-24               Abruzzo            0\n",
       "4                 Potenza  2020-02-24            Basilicata            0"
      ]
     },
     "execution_count": 91,
     "metadata": {},
     "output_type": "execute_result"
    }
   ],
   "source": [
    "#elimino le colonne che al momento non ci interessano\n",
    "df_covid.drop(['stato', 'codice_regione', 'codice_provincia', 'sigla_provincia', 'lat', 'long', 'note' ], axis=1, inplace=True)\n",
    "df_covid.head()"
   ]
  },
  {
   "cell_type": "markdown",
   "metadata": {},
   "source": [
    "<h2> RICERCA DELLE PROVINCE COMPLETE DI TUTTI I COMUNI </h2>"
   ]
  },
  {
   "cell_type": "code",
   "execution_count": 92,
   "metadata": {},
   "outputs": [
    {
     "data": {
      "text/plain": [
       "107"
      ]
     },
     "execution_count": 92,
     "metadata": {},
     "output_type": "execute_result"
    }
   ],
   "source": [
    "#Numero delle province presenti nei dati della Protezione Civile\n",
    "len(df_covid['denominazione_provincia'].unique())"
   ]
  },
  {
   "cell_type": "code",
   "execution_count": 93,
   "metadata": {},
   "outputs": [
    {
     "data": {
      "text/html": [
       "<div>\n",
       "<style scoped>\n",
       "    .dataframe tbody tr th:only-of-type {\n",
       "        vertical-align: middle;\n",
       "    }\n",
       "\n",
       "    .dataframe tbody tr th {\n",
       "        vertical-align: top;\n",
       "    }\n",
       "\n",
       "    .dataframe thead th {\n",
       "        text-align: right;\n",
       "    }\n",
       "</style>\n",
       "<table border=\"1\" class=\"dataframe\">\n",
       "  <thead>\n",
       "    <tr style=\"text-align: right;\">\n",
       "      <th></th>\n",
       "      <th>denominazione_provincia</th>\n",
       "      <th>data</th>\n",
       "      <th>denominazione_regione</th>\n",
       "      <th>totale_casi</th>\n",
       "    </tr>\n",
       "  </thead>\n",
       "  <tbody>\n",
       "    <tr>\n",
       "      <th>8</th>\n",
       "      <td>Reggio di Calabria</td>\n",
       "      <td>2020-02-24</td>\n",
       "      <td>Calabria</td>\n",
       "      <td>0</td>\n",
       "    </tr>\n",
       "    <tr>\n",
       "      <th>16</th>\n",
       "      <td>Piacenza</td>\n",
       "      <td>2020-02-24</td>\n",
       "      <td>Emilia-Romagna</td>\n",
       "      <td>0</td>\n",
       "    </tr>\n",
       "    <tr>\n",
       "      <th>22</th>\n",
       "      <td>Ravenna</td>\n",
       "      <td>2020-02-24</td>\n",
       "      <td>Emilia-Romagna</td>\n",
       "      <td>0</td>\n",
       "    </tr>\n",
       "    <tr>\n",
       "      <th>26</th>\n",
       "      <td>Gorizia</td>\n",
       "      <td>2020-02-24</td>\n",
       "      <td>Friuli Venezia Giulia</td>\n",
       "      <td>0</td>\n",
       "    </tr>\n",
       "    <tr>\n",
       "      <th>27</th>\n",
       "      <td>Trieste</td>\n",
       "      <td>2020-02-24</td>\n",
       "      <td>Friuli Venezia Giulia</td>\n",
       "      <td>0</td>\n",
       "    </tr>\n",
       "    <tr>\n",
       "      <th>...</th>\n",
       "      <td>...</td>\n",
       "      <td>...</td>\n",
       "      <td>...</td>\n",
       "      <td>...</td>\n",
       "    </tr>\n",
       "    <tr>\n",
       "      <th>13646</th>\n",
       "      <td>Bolzano</td>\n",
       "      <td>2020-06-30</td>\n",
       "      <td>P.A. Bolzano</td>\n",
       "      <td>2639</td>\n",
       "    </tr>\n",
       "    <tr>\n",
       "      <th>13674</th>\n",
       "      <td>Ragusa</td>\n",
       "      <td>2020-06-30</td>\n",
       "      <td>Sicilia</td>\n",
       "      <td>87</td>\n",
       "    </tr>\n",
       "    <tr>\n",
       "      <th>13676</th>\n",
       "      <td>Massa Carrara</td>\n",
       "      <td>2020-06-30</td>\n",
       "      <td>Toscana</td>\n",
       "      <td>1051</td>\n",
       "    </tr>\n",
       "    <tr>\n",
       "      <th>13688</th>\n",
       "      <td>Aosta</td>\n",
       "      <td>2020-06-30</td>\n",
       "      <td>Valle d'Aosta</td>\n",
       "      <td>1195</td>\n",
       "    </tr>\n",
       "    <tr>\n",
       "      <th>13695</th>\n",
       "      <td>Rovigo</td>\n",
       "      <td>2020-06-30</td>\n",
       "      <td>Veneto</td>\n",
       "      <td>444</td>\n",
       "    </tr>\n",
       "  </tbody>\n",
       "</table>\n",
       "<p>1536 rows × 4 columns</p>\n",
       "</div>"
      ],
      "text/plain": [
       "      denominazione_provincia        data  denominazione_regione  totale_casi\n",
       "8          Reggio di Calabria  2020-02-24               Calabria            0\n",
       "16                   Piacenza  2020-02-24         Emilia-Romagna            0\n",
       "22                    Ravenna  2020-02-24         Emilia-Romagna            0\n",
       "26                    Gorizia  2020-02-24  Friuli Venezia Giulia            0\n",
       "27                    Trieste  2020-02-24  Friuli Venezia Giulia            0\n",
       "...                       ...         ...                    ...          ...\n",
       "13646                 Bolzano  2020-06-30           P.A. Bolzano         2639\n",
       "13674                  Ragusa  2020-06-30                Sicilia           87\n",
       "13676           Massa Carrara  2020-06-30                Toscana         1051\n",
       "13688                   Aosta  2020-06-30          Valle d'Aosta         1195\n",
       "13695                  Rovigo  2020-06-30                 Veneto          444\n",
       "\n",
       "[1536 rows x 4 columns]"
      ]
     },
     "execution_count": 93,
     "metadata": {},
     "output_type": "execute_result"
    }
   ],
   "source": [
    "province_complete = df_covid[df_covid['denominazione_provincia'].isin(lista_province) == False]\n",
    "province_complete"
   ]
  },
  {
   "cell_type": "markdown",
   "metadata": {},
   "source": [
    "<p> Il DataFrame <b>province_complete</b> contiene i dati realativi alle province di cui possediamo i dati per ogni comune che le compone </p>"
   ]
  },
  {
   "cell_type": "code",
   "execution_count": 94,
   "metadata": {},
   "outputs": [],
   "source": [
    "#Ricerca del nome delle province complete\n",
    "province = province_complete['denominazione_provincia'].unique()"
   ]
  },
  {
   "cell_type": "code",
   "execution_count": 95,
   "metadata": {},
   "outputs": [
    {
     "data": {
      "text/plain": [
       "array(['Reggio di Calabria', 'Piacenza', 'Ravenna', 'Gorizia', 'Trieste',\n",
       "       'Pordenone', 'Sondrio', 'Bolzano', 'Ragusa', 'Massa Carrara',\n",
       "       'Aosta', 'Rovigo'], dtype=object)"
      ]
     },
     "execution_count": 95,
     "metadata": {},
     "output_type": "execute_result"
    }
   ],
   "source": [
    "province"
   ]
  },
  {
   "cell_type": "code",
   "execution_count": 96,
   "metadata": {},
   "outputs": [],
   "source": [
    "#Elimino le province che risultano essere scritte in maniera diversa \n",
    "province_complete = province_complete.set_index('denominazione_provincia')\n",
    "province_complete = province_complete.drop('Massa Carrara', axis=0)\n",
    "province_complete = province_complete.drop('Reggio di Calabria', axis=0)\n",
    "province_complete = province_complete.drop('Aosta', axis=0)\n",
    "province_complete = province_complete.drop('Bolzano', axis=0)\n",
    "province_complete = province_complete.reset_index()"
   ]
  },
  {
   "cell_type": "code",
   "execution_count": 97,
   "metadata": {},
   "outputs": [],
   "source": [
    "# salvo il DataFrame con i dati delle province complete relativi ai decessi covid da Protezione Civile\n",
    "province_complete.to_csv('csv/province_complete.csv', index=False)"
   ]
  },
  {
   "cell_type": "code",
   "execution_count": 98,
   "metadata": {},
   "outputs": [],
   "source": [
    "province = province_complete['denominazione_provincia'].unique()"
   ]
  },
  {
   "cell_type": "code",
   "execution_count": 99,
   "metadata": {},
   "outputs": [
    {
     "data": {
      "text/plain": [
       "array(['Piacenza', 'Ravenna', 'Gorizia', 'Trieste', 'Pordenone',\n",
       "       'Sondrio', 'Ragusa', 'Rovigo'], dtype=object)"
      ]
     },
     "execution_count": 99,
     "metadata": {},
     "output_type": "execute_result"
    }
   ],
   "source": [
    "#Lista delle province di cui abbiamo i dati per ogni comune\n",
    "province"
   ]
  },
  {
   "cell_type": "code",
   "execution_count": 100,
   "metadata": {},
   "outputs": [
    {
     "data": {
      "text/plain": [
       "8"
      ]
     },
     "execution_count": 100,
     "metadata": {},
     "output_type": "execute_result"
    }
   ],
   "source": [
    "len(province)"
   ]
  },
  {
   "cell_type": "markdown",
   "metadata": {},
   "source": [
    "<h2> CONCLUSIONE </h2>"
   ]
  },
  {
   "cell_type": "markdown",
   "metadata": {},
   "source": [
    "<p> Le province di cui non possediamo i dati di tutti i comuni sono <b>99</b>. Per cui, andandole a eliminare dai dati della Protezione Civile che comprendono <b> 107 </b> province, risulta che le province per cui abbiamo i dati completi per ogni comune appartenente sono <b> 8 </b>.\n",
    "    </p>"
   ]
  },
  {
   "cell_type": "markdown",
   "metadata": {},
   "source": [
    "<h1> CREAZIONE DELLA NUOVA SERIE STORICA </h1>"
   ]
  },
  {
   "cell_type": "markdown",
   "metadata": {},
   "source": [
    "<p> Nella nuova serie storica sono presenti i decessi dal 2015 al 30 giugno 2020 dei comuni che fanno parte della provincia di <b>Piacenza</b>, <b>Ravenna</b>, <b>Gorizia</b>, <b>Trieste</b>, <b>Pordenone</b>, <b>Sondrio</b>, <b>Ragusa</b> e <b>Rovigo</b>."
   ]
  },
  {
   "cell_type": "code",
   "execution_count": 101,
   "metadata": {},
   "outputs": [
    {
     "data": {
      "text/html": [
       "<div>\n",
       "<style scoped>\n",
       "    .dataframe tbody tr th:only-of-type {\n",
       "        vertical-align: middle;\n",
       "    }\n",
       "\n",
       "    .dataframe tbody tr th {\n",
       "        vertical-align: top;\n",
       "    }\n",
       "\n",
       "    .dataframe thead th {\n",
       "        text-align: right;\n",
       "    }\n",
       "</style>\n",
       "<table border=\"1\" class=\"dataframe\">\n",
       "  <thead>\n",
       "    <tr style=\"text-align: right;\">\n",
       "      <th></th>\n",
       "      <th>REG</th>\n",
       "      <th>NOME_REGIONE</th>\n",
       "      <th>PROV</th>\n",
       "      <th>NOME_PROVINCIA</th>\n",
       "      <th>COD_PROVCOM</th>\n",
       "      <th>NOME_COMUNE</th>\n",
       "      <th>DATA</th>\n",
       "      <th>TOTALE</th>\n",
       "    </tr>\n",
       "  </thead>\n",
       "  <tbody>\n",
       "    <tr>\n",
       "      <th>282858</th>\n",
       "      <td>3</td>\n",
       "      <td>Lombardia</td>\n",
       "      <td>14</td>\n",
       "      <td>Sondrio</td>\n",
       "      <td>14001</td>\n",
       "      <td>Albaredo per San Marco</td>\n",
       "      <td>2018-01-15</td>\n",
       "      <td>1</td>\n",
       "    </tr>\n",
       "    <tr>\n",
       "      <th>282859</th>\n",
       "      <td>3</td>\n",
       "      <td>Lombardia</td>\n",
       "      <td>14</td>\n",
       "      <td>Sondrio</td>\n",
       "      <td>14001</td>\n",
       "      <td>Albaredo per San Marco</td>\n",
       "      <td>2018-01-20</td>\n",
       "      <td>1</td>\n",
       "    </tr>\n",
       "    <tr>\n",
       "      <th>282860</th>\n",
       "      <td>3</td>\n",
       "      <td>Lombardia</td>\n",
       "      <td>14</td>\n",
       "      <td>Sondrio</td>\n",
       "      <td>14001</td>\n",
       "      <td>Albaredo per San Marco</td>\n",
       "      <td>2020-01-29</td>\n",
       "      <td>1</td>\n",
       "    </tr>\n",
       "    <tr>\n",
       "      <th>282861</th>\n",
       "      <td>3</td>\n",
       "      <td>Lombardia</td>\n",
       "      <td>14</td>\n",
       "      <td>Sondrio</td>\n",
       "      <td>14001</td>\n",
       "      <td>Albaredo per San Marco</td>\n",
       "      <td>2015-01-30</td>\n",
       "      <td>1</td>\n",
       "    </tr>\n",
       "    <tr>\n",
       "      <th>282862</th>\n",
       "      <td>3</td>\n",
       "      <td>Lombardia</td>\n",
       "      <td>14</td>\n",
       "      <td>Sondrio</td>\n",
       "      <td>14001</td>\n",
       "      <td>Albaredo per San Marco</td>\n",
       "      <td>2017-02-15</td>\n",
       "      <td>1</td>\n",
       "    </tr>\n",
       "    <tr>\n",
       "      <th>...</th>\n",
       "      <td>...</td>\n",
       "      <td>...</td>\n",
       "      <td>...</td>\n",
       "      <td>...</td>\n",
       "      <td>...</td>\n",
       "      <td>...</td>\n",
       "      <td>...</td>\n",
       "      <td>...</td>\n",
       "    </tr>\n",
       "    <tr>\n",
       "      <th>1889755</th>\n",
       "      <td>6</td>\n",
       "      <td>Friuli-Venezia Giulia</td>\n",
       "      <td>93</td>\n",
       "      <td>Pordenone</td>\n",
       "      <td>93053</td>\n",
       "      <td>Valvasone Arzene</td>\n",
       "      <td>2017-12-24</td>\n",
       "      <td>1</td>\n",
       "    </tr>\n",
       "    <tr>\n",
       "      <th>1889756</th>\n",
       "      <td>6</td>\n",
       "      <td>Friuli-Venezia Giulia</td>\n",
       "      <td>93</td>\n",
       "      <td>Pordenone</td>\n",
       "      <td>93053</td>\n",
       "      <td>Valvasone Arzene</td>\n",
       "      <td>2015-12-27</td>\n",
       "      <td>1</td>\n",
       "    </tr>\n",
       "    <tr>\n",
       "      <th>1889757</th>\n",
       "      <td>6</td>\n",
       "      <td>Friuli-Venezia Giulia</td>\n",
       "      <td>93</td>\n",
       "      <td>Pordenone</td>\n",
       "      <td>93053</td>\n",
       "      <td>Valvasone Arzene</td>\n",
       "      <td>2017-12-27</td>\n",
       "      <td>1</td>\n",
       "    </tr>\n",
       "    <tr>\n",
       "      <th>1889758</th>\n",
       "      <td>6</td>\n",
       "      <td>Friuli-Venezia Giulia</td>\n",
       "      <td>93</td>\n",
       "      <td>Pordenone</td>\n",
       "      <td>93053</td>\n",
       "      <td>Valvasone Arzene</td>\n",
       "      <td>2018-12-29</td>\n",
       "      <td>1</td>\n",
       "    </tr>\n",
       "    <tr>\n",
       "      <th>1889759</th>\n",
       "      <td>6</td>\n",
       "      <td>Friuli-Venezia Giulia</td>\n",
       "      <td>93</td>\n",
       "      <td>Pordenone</td>\n",
       "      <td>93053</td>\n",
       "      <td>Valvasone Arzene</td>\n",
       "      <td>2019-12-31</td>\n",
       "      <td>1</td>\n",
       "    </tr>\n",
       "  </tbody>\n",
       "</table>\n",
       "<p>87108 rows × 8 columns</p>\n",
       "</div>"
      ],
      "text/plain": [
       "         REG           NOME_REGIONE  PROV NOME_PROVINCIA  COD_PROVCOM  \\\n",
       "282858     3              Lombardia    14        Sondrio        14001   \n",
       "282859     3              Lombardia    14        Sondrio        14001   \n",
       "282860     3              Lombardia    14        Sondrio        14001   \n",
       "282861     3              Lombardia    14        Sondrio        14001   \n",
       "282862     3              Lombardia    14        Sondrio        14001   \n",
       "...      ...                    ...   ...            ...          ...   \n",
       "1889755    6  Friuli-Venezia Giulia    93      Pordenone        93053   \n",
       "1889756    6  Friuli-Venezia Giulia    93      Pordenone        93053   \n",
       "1889757    6  Friuli-Venezia Giulia    93      Pordenone        93053   \n",
       "1889758    6  Friuli-Venezia Giulia    93      Pordenone        93053   \n",
       "1889759    6  Friuli-Venezia Giulia    93      Pordenone        93053   \n",
       "\n",
       "                    NOME_COMUNE       DATA  TOTALE  \n",
       "282858   Albaredo per San Marco 2018-01-15       1  \n",
       "282859   Albaredo per San Marco 2018-01-20       1  \n",
       "282860   Albaredo per San Marco 2020-01-29       1  \n",
       "282861   Albaredo per San Marco 2015-01-30       1  \n",
       "282862   Albaredo per San Marco 2017-02-15       1  \n",
       "...                         ...        ...     ...  \n",
       "1889755        Valvasone Arzene 2017-12-24       1  \n",
       "1889756        Valvasone Arzene 2015-12-27       1  \n",
       "1889757        Valvasone Arzene 2017-12-27       1  \n",
       "1889758        Valvasone Arzene 2018-12-29       1  \n",
       "1889759        Valvasone Arzene 2019-12-31       1  \n",
       "\n",
       "[87108 rows x 8 columns]"
      ]
     },
     "execution_count": 101,
     "metadata": {},
     "output_type": "execute_result"
    }
   ],
   "source": [
    "df_comuni_completi = df[df['NOME_PROVINCIA'].isin(province)]\n",
    "df_comuni_completi"
   ]
  },
  {
   "cell_type": "code",
   "execution_count": 102,
   "metadata": {},
   "outputs": [],
   "source": [
    "# salvo il DataFrame\n",
    "df_comuni_completi.to_csv('csv/df_comuni_completi.csv', index=False)"
   ]
  },
  {
   "cell_type": "code",
   "execution_count": null,
   "metadata": {},
   "outputs": [],
   "source": []
  }
 ],
 "metadata": {
  "kernelspec": {
   "display_name": "Python 3",
   "language": "python",
   "name": "python3"
  },
  "language_info": {
   "codemirror_mode": {
    "name": "ipython",
    "version": 3
   },
   "file_extension": ".py",
   "mimetype": "text/x-python",
   "name": "python",
   "nbconvert_exporter": "python",
   "pygments_lexer": "ipython3",
   "version": "3.8.3"
  }
 },
 "nbformat": 4,
 "nbformat_minor": 4
}

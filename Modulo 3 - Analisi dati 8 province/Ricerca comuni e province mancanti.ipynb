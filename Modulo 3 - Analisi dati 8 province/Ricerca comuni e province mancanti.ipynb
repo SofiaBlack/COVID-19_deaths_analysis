{
 "cells": [
  {
   "cell_type": "markdown",
   "metadata": {},
   "source": [
    "<h2> CREAZIONE LISTA 7357 COMUNI </h2>"
   ]
  },
  {
   "cell_type": "markdown",
   "metadata": {},
   "source": [
    "<p> Ricavo dal Dataframe dei decessi totale dal 2015 al 30 giugno 2020 le lista dei comuni presenti che sono 7357. </p>"
   ]
  },
  {
   "cell_type": "code",
   "execution_count": 1,
   "metadata": {},
   "outputs": [
    {
     "data": {
      "text/html": [
       "<div>\n",
       "<style scoped>\n",
       "    .dataframe tbody tr th:only-of-type {\n",
       "        vertical-align: middle;\n",
       "    }\n",
       "\n",
       "    .dataframe tbody tr th {\n",
       "        vertical-align: top;\n",
       "    }\n",
       "\n",
       "    .dataframe thead th {\n",
       "        text-align: right;\n",
       "    }\n",
       "</style>\n",
       "<table border=\"1\" class=\"dataframe\">\n",
       "  <thead>\n",
       "    <tr style=\"text-align: right;\">\n",
       "      <th></th>\n",
       "      <th>REG</th>\n",
       "      <th>NOME_REGIONE</th>\n",
       "      <th>PROV</th>\n",
       "      <th>NOME_PROVINCIA</th>\n",
       "      <th>COD_PROVCOM</th>\n",
       "      <th>NOME_COMUNE</th>\n",
       "      <th>DATA</th>\n",
       "      <th>TOTALE</th>\n",
       "    </tr>\n",
       "  </thead>\n",
       "  <tbody>\n",
       "    <tr>\n",
       "      <th>0</th>\n",
       "      <td>1</td>\n",
       "      <td>Piemonte</td>\n",
       "      <td>1</td>\n",
       "      <td>Torino</td>\n",
       "      <td>1001</td>\n",
       "      <td>Agliè</td>\n",
       "      <td>2018-01-02</td>\n",
       "      <td>1</td>\n",
       "    </tr>\n",
       "    <tr>\n",
       "      <th>1</th>\n",
       "      <td>1</td>\n",
       "      <td>Piemonte</td>\n",
       "      <td>1</td>\n",
       "      <td>Torino</td>\n",
       "      <td>1001</td>\n",
       "      <td>Agliè</td>\n",
       "      <td>2016-01-04</td>\n",
       "      <td>1</td>\n",
       "    </tr>\n",
       "    <tr>\n",
       "      <th>2</th>\n",
       "      <td>1</td>\n",
       "      <td>Piemonte</td>\n",
       "      <td>1</td>\n",
       "      <td>Torino</td>\n",
       "      <td>1001</td>\n",
       "      <td>Agliè</td>\n",
       "      <td>2020-01-05</td>\n",
       "      <td>1</td>\n",
       "    </tr>\n",
       "    <tr>\n",
       "      <th>3</th>\n",
       "      <td>1</td>\n",
       "      <td>Piemonte</td>\n",
       "      <td>1</td>\n",
       "      <td>Torino</td>\n",
       "      <td>1001</td>\n",
       "      <td>Agliè</td>\n",
       "      <td>2015-01-06</td>\n",
       "      <td>1</td>\n",
       "    </tr>\n",
       "    <tr>\n",
       "      <th>4</th>\n",
       "      <td>1</td>\n",
       "      <td>Piemonte</td>\n",
       "      <td>1</td>\n",
       "      <td>Torino</td>\n",
       "      <td>1001</td>\n",
       "      <td>Agliè</td>\n",
       "      <td>2018-01-06</td>\n",
       "      <td>2</td>\n",
       "    </tr>\n",
       "  </tbody>\n",
       "</table>\n",
       "</div>"
      ],
      "text/plain": [
       "   REG NOME_REGIONE  PROV NOME_PROVINCIA  COD_PROVCOM NOME_COMUNE        DATA  \\\n",
       "0    1     Piemonte     1         Torino         1001       Agliè  2018-01-02   \n",
       "1    1     Piemonte     1         Torino         1001       Agliè  2016-01-04   \n",
       "2    1     Piemonte     1         Torino         1001       Agliè  2020-01-05   \n",
       "3    1     Piemonte     1         Torino         1001       Agliè  2015-01-06   \n",
       "4    1     Piemonte     1         Torino         1001       Agliè  2018-01-06   \n",
       "\n",
       "   TOTALE  \n",
       "0       1  \n",
       "1       1  \n",
       "2       1  \n",
       "3       1  \n",
       "4       2  "
      ]
     },
     "execution_count": 1,
     "metadata": {},
     "output_type": "execute_result"
    }
   ],
   "source": [
    "import pandas as pd\n",
    "df = pd.read_csv('csv/decessi_istat_7357comuni.csv')\n",
    "df.head()"
   ]
  },
  {
   "cell_type": "markdown",
   "metadata": {},
   "source": [
    "<p> Prendo in esame il periodo fino al 30 aprile per poter fare il confronto nello stesso periodo nel DataFrame con 7904 comuni. </p> "
   ]
  },
  {
   "cell_type": "code",
   "execution_count": 2,
   "metadata": {},
   "outputs": [],
   "source": [
    "df['DATA'] = pd.to_datetime(df['DATA'])\n",
    "df_data = df[df['DATA'] < '2020-05-01']"
   ]
  },
  {
   "cell_type": "code",
   "execution_count": 3,
   "metadata": {},
   "outputs": [
    {
     "data": {
      "text/plain": [
       "array([  1001,   1002,   1003, ..., 111105, 111106, 111107], dtype=int64)"
      ]
     },
     "execution_count": 3,
     "metadata": {},
     "output_type": "execute_result"
    }
   ],
   "source": [
    "comuni = df_data['COD_PROVCOM'].unique()\n",
    "comuni"
   ]
  },
  {
   "cell_type": "code",
   "execution_count": 4,
   "metadata": {},
   "outputs": [
    {
     "data": {
      "text/plain": [
       "7357"
      ]
     },
     "execution_count": 4,
     "metadata": {},
     "output_type": "execute_result"
    }
   ],
   "source": [
    "len(comuni)"
   ]
  },
  {
   "cell_type": "markdown",
   "metadata": {},
   "source": [
    "<p> La lista <b> comuni </b> contiene i 7357 comuni presenti del DataFrame dal 2015 al 30 giugno 2020. </p>"
   ]
  },
  {
   "cell_type": "markdown",
   "metadata": {},
   "source": [
    "<h2> RICERCA DEI COMUNI MANCANTI </h2>"
   ]
  },
  {
   "cell_type": "code",
   "execution_count": 5,
   "metadata": {},
   "outputs": [
    {
     "data": {
      "text/html": [
       "<div>\n",
       "<style scoped>\n",
       "    .dataframe tbody tr th:only-of-type {\n",
       "        vertical-align: middle;\n",
       "    }\n",
       "\n",
       "    .dataframe tbody tr th {\n",
       "        vertical-align: top;\n",
       "    }\n",
       "\n",
       "    .dataframe thead th {\n",
       "        text-align: right;\n",
       "    }\n",
       "</style>\n",
       "<table border=\"1\" class=\"dataframe\">\n",
       "  <thead>\n",
       "    <tr style=\"text-align: right;\">\n",
       "      <th></th>\n",
       "      <th>REG</th>\n",
       "      <th>PROV</th>\n",
       "      <th>NOME_REGIONE</th>\n",
       "      <th>NOME_PROVINCIA</th>\n",
       "      <th>NOME_COMUNE</th>\n",
       "      <th>COD_PROVCOM</th>\n",
       "      <th>TIPO_COMUNE</th>\n",
       "      <th>CL_ETA</th>\n",
       "      <th>GE</th>\n",
       "      <th>Data</th>\n",
       "      <th>Maschi</th>\n",
       "      <th>Femmine</th>\n",
       "      <th>Totale</th>\n",
       "    </tr>\n",
       "  </thead>\n",
       "  <tbody>\n",
       "    <tr>\n",
       "      <th>0</th>\n",
       "      <td>1</td>\n",
       "      <td>1</td>\n",
       "      <td>Piemonte</td>\n",
       "      <td>Torino</td>\n",
       "      <td>Agliè</td>\n",
       "      <td>1001</td>\n",
       "      <td>1</td>\n",
       "      <td>7</td>\n",
       "      <td>609</td>\n",
       "      <td>09-06-2015</td>\n",
       "      <td>0</td>\n",
       "      <td>0</td>\n",
       "      <td>0</td>\n",
       "    </tr>\n",
       "    <tr>\n",
       "      <th>1</th>\n",
       "      <td>1</td>\n",
       "      <td>1</td>\n",
       "      <td>Piemonte</td>\n",
       "      <td>Torino</td>\n",
       "      <td>Agliè</td>\n",
       "      <td>1001</td>\n",
       "      <td>1</td>\n",
       "      <td>7</td>\n",
       "      <td>609</td>\n",
       "      <td>09-06-2016</td>\n",
       "      <td>0</td>\n",
       "      <td>0</td>\n",
       "      <td>0</td>\n",
       "    </tr>\n",
       "    <tr>\n",
       "      <th>2</th>\n",
       "      <td>1</td>\n",
       "      <td>1</td>\n",
       "      <td>Piemonte</td>\n",
       "      <td>Torino</td>\n",
       "      <td>Agliè</td>\n",
       "      <td>1001</td>\n",
       "      <td>1</td>\n",
       "      <td>7</td>\n",
       "      <td>609</td>\n",
       "      <td>09-06-2017</td>\n",
       "      <td>0</td>\n",
       "      <td>0</td>\n",
       "      <td>0</td>\n",
       "    </tr>\n",
       "    <tr>\n",
       "      <th>3</th>\n",
       "      <td>1</td>\n",
       "      <td>1</td>\n",
       "      <td>Piemonte</td>\n",
       "      <td>Torino</td>\n",
       "      <td>Agliè</td>\n",
       "      <td>1001</td>\n",
       "      <td>1</td>\n",
       "      <td>7</td>\n",
       "      <td>609</td>\n",
       "      <td>09-06-2018</td>\n",
       "      <td>0</td>\n",
       "      <td>0</td>\n",
       "      <td>0</td>\n",
       "    </tr>\n",
       "    <tr>\n",
       "      <th>4</th>\n",
       "      <td>1</td>\n",
       "      <td>1</td>\n",
       "      <td>Piemonte</td>\n",
       "      <td>Torino</td>\n",
       "      <td>Agliè</td>\n",
       "      <td>1001</td>\n",
       "      <td>1</td>\n",
       "      <td>7</td>\n",
       "      <td>609</td>\n",
       "      <td>09-06-2019</td>\n",
       "      <td>1</td>\n",
       "      <td>0</td>\n",
       "      <td>1</td>\n",
       "    </tr>\n",
       "  </tbody>\n",
       "</table>\n",
       "</div>"
      ],
      "text/plain": [
       "   REG  PROV NOME_REGIONE NOME_PROVINCIA NOME_COMUNE  COD_PROVCOM  \\\n",
       "0    1     1     Piemonte         Torino       Agliè         1001   \n",
       "1    1     1     Piemonte         Torino       Agliè         1001   \n",
       "2    1     1     Piemonte         Torino       Agliè         1001   \n",
       "3    1     1     Piemonte         Torino       Agliè         1001   \n",
       "4    1     1     Piemonte         Torino       Agliè         1001   \n",
       "\n",
       "   TIPO_COMUNE  CL_ETA   GE        Data Maschi Femmine Totale  \n",
       "0            1       7  609  09-06-2015      0       0      0  \n",
       "1            1       7  609  09-06-2016      0       0      0  \n",
       "2            1       7  609  09-06-2017      0       0      0  \n",
       "3            1       7  609  09-06-2018      0       0      0  \n",
       "4            1       7  609  09-06-2019      1       0      1  "
      ]
     },
     "execution_count": 5,
     "metadata": {},
     "output_type": "execute_result"
    }
   ],
   "source": [
    "df2 = pd.read_csv('csv/decessi.csv', encoding = \"ISO-8859-1\")\n",
    "df2.head()"
   ]
  },
  {
   "cell_type": "code",
   "execution_count": 6,
   "metadata": {},
   "outputs": [
    {
     "data": {
      "text/plain": [
       "7904"
      ]
     },
     "execution_count": 6,
     "metadata": {},
     "output_type": "execute_result"
    }
   ],
   "source": [
    "#Numero totale di comuni \n",
    "len(df2['COD_PROVCOM'].unique())"
   ]
  },
  {
   "cell_type": "code",
   "execution_count": 7,
   "metadata": {},
   "outputs": [
    {
     "data": {
      "text/plain": [
       "107"
      ]
     },
     "execution_count": 7,
     "metadata": {},
     "output_type": "execute_result"
    }
   ],
   "source": [
    "#Numero totale delle province\n",
    "len(df2['NOME_PROVINCIA'].unique())"
   ]
  },
  {
   "cell_type": "code",
   "execution_count": 8,
   "metadata": {},
   "outputs": [
    {
     "data": {
      "text/html": [
       "<div>\n",
       "<style scoped>\n",
       "    .dataframe tbody tr th:only-of-type {\n",
       "        vertical-align: middle;\n",
       "    }\n",
       "\n",
       "    .dataframe tbody tr th {\n",
       "        vertical-align: top;\n",
       "    }\n",
       "\n",
       "    .dataframe thead th {\n",
       "        text-align: right;\n",
       "    }\n",
       "</style>\n",
       "<table border=\"1\" class=\"dataframe\">\n",
       "  <thead>\n",
       "    <tr style=\"text-align: right;\">\n",
       "      <th></th>\n",
       "      <th>REG</th>\n",
       "      <th>PROV</th>\n",
       "      <th>NOME_REGIONE</th>\n",
       "      <th>NOME_PROVINCIA</th>\n",
       "      <th>NOME_COMUNE</th>\n",
       "      <th>COD_PROVCOM</th>\n",
       "      <th>TIPO_COMUNE</th>\n",
       "      <th>CL_ETA</th>\n",
       "      <th>GE</th>\n",
       "      <th>Data</th>\n",
       "      <th>Maschi</th>\n",
       "      <th>Femmine</th>\n",
       "      <th>Totale</th>\n",
       "    </tr>\n",
       "  </thead>\n",
       "  <tbody>\n",
       "    <tr>\n",
       "      <th>17250</th>\n",
       "      <td>1</td>\n",
       "      <td>1</td>\n",
       "      <td>Piemonte</td>\n",
       "      <td>Torino</td>\n",
       "      <td>Balangero</td>\n",
       "      <td>1016</td>\n",
       "      <td>2</td>\n",
       "      <td>6</td>\n",
       "      <td>821</td>\n",
       "      <td>21-08-2015</td>\n",
       "      <td>0</td>\n",
       "      <td>0</td>\n",
       "      <td>0</td>\n",
       "    </tr>\n",
       "    <tr>\n",
       "      <th>17251</th>\n",
       "      <td>1</td>\n",
       "      <td>1</td>\n",
       "      <td>Piemonte</td>\n",
       "      <td>Torino</td>\n",
       "      <td>Balangero</td>\n",
       "      <td>1016</td>\n",
       "      <td>2</td>\n",
       "      <td>6</td>\n",
       "      <td>821</td>\n",
       "      <td>21-08-2016</td>\n",
       "      <td>0</td>\n",
       "      <td>0</td>\n",
       "      <td>0</td>\n",
       "    </tr>\n",
       "    <tr>\n",
       "      <th>17252</th>\n",
       "      <td>1</td>\n",
       "      <td>1</td>\n",
       "      <td>Piemonte</td>\n",
       "      <td>Torino</td>\n",
       "      <td>Balangero</td>\n",
       "      <td>1016</td>\n",
       "      <td>2</td>\n",
       "      <td>6</td>\n",
       "      <td>821</td>\n",
       "      <td>21-08-2017</td>\n",
       "      <td>1</td>\n",
       "      <td>0</td>\n",
       "      <td>1</td>\n",
       "    </tr>\n",
       "    <tr>\n",
       "      <th>17253</th>\n",
       "      <td>1</td>\n",
       "      <td>1</td>\n",
       "      <td>Piemonte</td>\n",
       "      <td>Torino</td>\n",
       "      <td>Balangero</td>\n",
       "      <td>1016</td>\n",
       "      <td>2</td>\n",
       "      <td>6</td>\n",
       "      <td>821</td>\n",
       "      <td>21-08-2018</td>\n",
       "      <td>0</td>\n",
       "      <td>0</td>\n",
       "      <td>0</td>\n",
       "    </tr>\n",
       "    <tr>\n",
       "      <th>17254</th>\n",
       "      <td>1</td>\n",
       "      <td>1</td>\n",
       "      <td>Piemonte</td>\n",
       "      <td>Torino</td>\n",
       "      <td>Balangero</td>\n",
       "      <td>1016</td>\n",
       "      <td>2</td>\n",
       "      <td>6</td>\n",
       "      <td>821</td>\n",
       "      <td>21-08-2019</td>\n",
       "      <td>0</td>\n",
       "      <td>0</td>\n",
       "      <td>0</td>\n",
       "    </tr>\n",
       "  </tbody>\n",
       "</table>\n",
       "</div>"
      ],
      "text/plain": [
       "       REG  PROV NOME_REGIONE NOME_PROVINCIA NOME_COMUNE  COD_PROVCOM  \\\n",
       "17250    1     1     Piemonte         Torino   Balangero         1016   \n",
       "17251    1     1     Piemonte         Torino   Balangero         1016   \n",
       "17252    1     1     Piemonte         Torino   Balangero         1016   \n",
       "17253    1     1     Piemonte         Torino   Balangero         1016   \n",
       "17254    1     1     Piemonte         Torino   Balangero         1016   \n",
       "\n",
       "       TIPO_COMUNE  CL_ETA   GE        Data Maschi Femmine Totale  \n",
       "17250            2       6  821  21-08-2015      0       0      0  \n",
       "17251            2       6  821  21-08-2016      0       0      0  \n",
       "17252            2       6  821  21-08-2017      1       0      1  \n",
       "17253            2       6  821  21-08-2018      0       0      0  \n",
       "17254            2       6  821  21-08-2019      0       0      0  "
      ]
     },
     "execution_count": 8,
     "metadata": {},
     "output_type": "execute_result"
    }
   ],
   "source": [
    "comuni_mancanti = df2[df2['COD_PROVCOM'].isin(comuni) == False]\n",
    "comuni_mancanti.head()"
   ]
  },
  {
   "cell_type": "code",
   "execution_count": 9,
   "metadata": {},
   "outputs": [
    {
     "data": {
      "text/plain": [
       "547"
      ]
     },
     "execution_count": 9,
     "metadata": {},
     "output_type": "execute_result"
    }
   ],
   "source": [
    "len(comuni_mancanti['COD_PROVCOM'].unique())"
   ]
  },
  {
   "cell_type": "markdown",
   "metadata": {},
   "source": [
    "<p> Il DataFrame <b> comuni_mancanti </b> contiene tutti i comuni che non sono presenti nel DataFrame usato per l'analisi dei decessi.\n",
    "    <br />\n",
    "    Nello specifico, si tratta di <b>547</b> comuni.\n",
    "</p>"
   ]
  },
  {
   "cell_type": "markdown",
   "metadata": {},
   "source": [
    "<h3> Modifica del DataFrame comuni_mancanti </h3>"
   ]
  },
  {
   "cell_type": "code",
   "execution_count": 10,
   "metadata": {},
   "outputs": [
    {
     "name": "stderr",
     "output_type": "stream",
     "text": [
      "c:\\users\\monta\\appdata\\local\\programs\\python\\python38\\lib\\site-packages\\pandas\\core\\frame.py:3990: SettingWithCopyWarning: \n",
      "A value is trying to be set on a copy of a slice from a DataFrame\n",
      "\n",
      "See the caveats in the documentation: https://pandas.pydata.org/pandas-docs/stable/user_guide/indexing.html#returning-a-view-versus-a-copy\n",
      "  return super().drop(\n"
     ]
    },
    {
     "data": {
      "text/html": [
       "<div>\n",
       "<style scoped>\n",
       "    .dataframe tbody tr th:only-of-type {\n",
       "        vertical-align: middle;\n",
       "    }\n",
       "\n",
       "    .dataframe tbody tr th {\n",
       "        vertical-align: top;\n",
       "    }\n",
       "\n",
       "    .dataframe thead th {\n",
       "        text-align: right;\n",
       "    }\n",
       "</style>\n",
       "<table border=\"1\" class=\"dataframe\">\n",
       "  <thead>\n",
       "    <tr style=\"text-align: right;\">\n",
       "      <th></th>\n",
       "      <th>PROV</th>\n",
       "      <th>NOME_PROVINCIA</th>\n",
       "      <th>NOME_COMUNE</th>\n",
       "      <th>COD_PROVCOM</th>\n",
       "    </tr>\n",
       "  </thead>\n",
       "  <tbody>\n",
       "    <tr>\n",
       "      <th>17250</th>\n",
       "      <td>1</td>\n",
       "      <td>Torino</td>\n",
       "      <td>Balangero</td>\n",
       "      <td>1016</td>\n",
       "    </tr>\n",
       "    <tr>\n",
       "      <th>17251</th>\n",
       "      <td>1</td>\n",
       "      <td>Torino</td>\n",
       "      <td>Balangero</td>\n",
       "      <td>1016</td>\n",
       "    </tr>\n",
       "    <tr>\n",
       "      <th>17252</th>\n",
       "      <td>1</td>\n",
       "      <td>Torino</td>\n",
       "      <td>Balangero</td>\n",
       "      <td>1016</td>\n",
       "    </tr>\n",
       "    <tr>\n",
       "      <th>17253</th>\n",
       "      <td>1</td>\n",
       "      <td>Torino</td>\n",
       "      <td>Balangero</td>\n",
       "      <td>1016</td>\n",
       "    </tr>\n",
       "    <tr>\n",
       "      <th>17254</th>\n",
       "      <td>1</td>\n",
       "      <td>Torino</td>\n",
       "      <td>Balangero</td>\n",
       "      <td>1016</td>\n",
       "    </tr>\n",
       "  </tbody>\n",
       "</table>\n",
       "</div>"
      ],
      "text/plain": [
       "       PROV NOME_PROVINCIA NOME_COMUNE  COD_PROVCOM\n",
       "17250     1         Torino   Balangero         1016\n",
       "17251     1         Torino   Balangero         1016\n",
       "17252     1         Torino   Balangero         1016\n",
       "17253     1         Torino   Balangero         1016\n",
       "17254     1         Torino   Balangero         1016"
      ]
     },
     "execution_count": 10,
     "metadata": {},
     "output_type": "execute_result"
    }
   ],
   "source": [
    "#elimino le colonne che al momento non ci interessano\n",
    "comuni_mancanti.drop(['REG', 'NOME_REGIONE', 'TIPO_COMUNE','CL_ETA', 'GE', 'Maschi', 'Femmine', ' Data', 'Maschi', \n",
    "                      'Femmine', 'Totale'], axis=1, inplace=True)\n",
    "comuni_mancanti.head()"
   ]
  },
  {
   "cell_type": "code",
   "execution_count": 11,
   "metadata": {},
   "outputs": [
    {
     "data": {
      "text/plain": [
       "547"
      ]
     },
     "execution_count": 11,
     "metadata": {},
     "output_type": "execute_result"
    }
   ],
   "source": [
    "len(comuni_mancanti['NOME_COMUNE'].unique())"
   ]
  },
  {
   "cell_type": "code",
   "execution_count": 12,
   "metadata": {},
   "outputs": [],
   "source": [
    "# salvo il DataFrame\n",
    "comuni_mancanti.to_csv('csv/comuni_province_mancanti.csv', index=False)"
   ]
  },
  {
   "cell_type": "markdown",
   "metadata": {},
   "source": [
    "<h3> RICERCA DELLE PROVINCE DI CUI NON ABBIAMO I DATI DI TUTTI I COMUNI CHE NE FANNO PARTE </h3>"
   ]
  },
  {
   "cell_type": "code",
   "execution_count": 13,
   "metadata": {},
   "outputs": [
    {
     "data": {
      "text/plain": [
       "array(['Torino', 'Vercelli', 'Novara', 'Cuneo', 'Asti', 'Alessandria',\n",
       "       \"Valle d'Aosta/Vallée d'Aoste\", 'Imperia', 'Savona', 'Genova',\n",
       "       'La Spezia', 'Varese', 'Como', 'Milano', 'Bergamo', 'Brescia',\n",
       "       'Pavia', 'Cremona', 'Mantova', 'Bolzano/Bozen', 'Trento', 'Verona',\n",
       "       'Vicenza', 'Belluno', 'Treviso', 'Venezia', 'Padova', 'Udine',\n",
       "       'Parma', \"Reggio nell'Emilia\", 'Modena', 'Bologna', 'Ferrara',\n",
       "       'Forlì-Cesena', 'Pesaro e Urbino', 'Ancona', 'Macerata',\n",
       "       'Ascoli Piceno', 'Massa-Carrara', 'Lucca', 'Pistoia', 'Firenze',\n",
       "       'Livorno', 'Pisa', 'Arezzo', 'Siena', 'Grosseto', 'Perugia',\n",
       "       'Terni', 'Viterbo', 'Rieti', 'Roma', 'Latina', 'Frosinone',\n",
       "       'Caserta', 'Benevento', 'Napoli', 'Avellino', 'Salerno',\n",
       "       \"L'Aquila\", 'Teramo', 'Pescara', 'Chieti', 'Campobasso', 'Foggia',\n",
       "       'Bari', 'Taranto', 'Brindisi', 'Lecce', 'Potenza', 'Matera',\n",
       "       'Cosenza', 'Catanzaro', 'Reggio Calabria', 'Trapani', 'Palermo',\n",
       "       'Messina', 'Agrigento', 'Caltanissetta', 'Enna', 'Catania',\n",
       "       'Siracusa', 'Sassari', 'Nuoro', 'Cagliari', 'Isernia', 'Oristano',\n",
       "       'Biella', 'Lecco', 'Lodi', 'Rimini', 'Prato', 'Crotone',\n",
       "       'Vibo Valentia', 'Verbano-Cusio-Ossola', 'Monza e della Brianza',\n",
       "       'Fermo', 'Barletta-Andria-Trani', 'Sud Sardegna'], dtype=object)"
      ]
     },
     "execution_count": 13,
     "metadata": {},
     "output_type": "execute_result"
    }
   ],
   "source": [
    "lista_province = comuni_mancanti['NOME_PROVINCIA'].unique()\n",
    "lista_province"
   ]
  },
  {
   "cell_type": "code",
   "execution_count": 14,
   "metadata": {},
   "outputs": [
    {
     "data": {
      "text/plain": [
       "99"
      ]
     },
     "execution_count": 14,
     "metadata": {},
     "output_type": "execute_result"
    }
   ],
   "source": [
    "len(lista_province)"
   ]
  },
  {
   "cell_type": "markdown",
   "metadata": {},
   "source": [
    "<p>La lista <b>lista_province</b> contiente il nome di tutte le province di cui non abbiamo i dati completi per ogni comune. Le province in questione risultano essere <b>99</b>. </p>"
   ]
  },
  {
   "cell_type": "markdown",
   "metadata": {},
   "source": [
    "<h2> RICERCA DELLE PROVINCE COMPLETE DI TUTTI I COMUNI </h2>"
   ]
  },
  {
   "cell_type": "code",
   "execution_count": 15,
   "metadata": {},
   "outputs": [
    {
     "data": {
      "text/html": [
       "<div>\n",
       "<style scoped>\n",
       "    .dataframe tbody tr th:only-of-type {\n",
       "        vertical-align: middle;\n",
       "    }\n",
       "\n",
       "    .dataframe tbody tr th {\n",
       "        vertical-align: top;\n",
       "    }\n",
       "\n",
       "    .dataframe thead th {\n",
       "        text-align: right;\n",
       "    }\n",
       "</style>\n",
       "<table border=\"1\" class=\"dataframe\">\n",
       "  <thead>\n",
       "    <tr style=\"text-align: right;\">\n",
       "      <th></th>\n",
       "      <th>REG</th>\n",
       "      <th>PROV</th>\n",
       "      <th>NOME_REGIONE</th>\n",
       "      <th>NOME_PROVINCIA</th>\n",
       "      <th>NOME_COMUNE</th>\n",
       "      <th>COD_PROVCOM</th>\n",
       "      <th>TIPO_COMUNE</th>\n",
       "      <th>CL_ETA</th>\n",
       "      <th>GE</th>\n",
       "      <th>Data</th>\n",
       "      <th>Maschi</th>\n",
       "      <th>Femmine</th>\n",
       "      <th>Totale</th>\n",
       "    </tr>\n",
       "  </thead>\n",
       "  <tbody>\n",
       "    <tr>\n",
       "      <th>1905426</th>\n",
       "      <td>3</td>\n",
       "      <td>14</td>\n",
       "      <td>Lombardia</td>\n",
       "      <td>Sondrio</td>\n",
       "      <td>Albaredo per San Marco</td>\n",
       "      <td>14001</td>\n",
       "      <td>1</td>\n",
       "      <td>11</td>\n",
       "      <td>219</td>\n",
       "      <td>19-02-2015</td>\n",
       "      <td>0</td>\n",
       "      <td>0</td>\n",
       "      <td>0</td>\n",
       "    </tr>\n",
       "    <tr>\n",
       "      <th>1905427</th>\n",
       "      <td>3</td>\n",
       "      <td>14</td>\n",
       "      <td>Lombardia</td>\n",
       "      <td>Sondrio</td>\n",
       "      <td>Albaredo per San Marco</td>\n",
       "      <td>14001</td>\n",
       "      <td>1</td>\n",
       "      <td>11</td>\n",
       "      <td>219</td>\n",
       "      <td>19-02-2016</td>\n",
       "      <td>0</td>\n",
       "      <td>0</td>\n",
       "      <td>0</td>\n",
       "    </tr>\n",
       "    <tr>\n",
       "      <th>1905428</th>\n",
       "      <td>3</td>\n",
       "      <td>14</td>\n",
       "      <td>Lombardia</td>\n",
       "      <td>Sondrio</td>\n",
       "      <td>Albaredo per San Marco</td>\n",
       "      <td>14001</td>\n",
       "      <td>1</td>\n",
       "      <td>11</td>\n",
       "      <td>219</td>\n",
       "      <td>19-02-2017</td>\n",
       "      <td>0</td>\n",
       "      <td>0</td>\n",
       "      <td>0</td>\n",
       "    </tr>\n",
       "    <tr>\n",
       "      <th>1905429</th>\n",
       "      <td>3</td>\n",
       "      <td>14</td>\n",
       "      <td>Lombardia</td>\n",
       "      <td>Sondrio</td>\n",
       "      <td>Albaredo per San Marco</td>\n",
       "      <td>14001</td>\n",
       "      <td>1</td>\n",
       "      <td>11</td>\n",
       "      <td>219</td>\n",
       "      <td>19-02-2018</td>\n",
       "      <td>0</td>\n",
       "      <td>0</td>\n",
       "      <td>0</td>\n",
       "    </tr>\n",
       "    <tr>\n",
       "      <th>1905430</th>\n",
       "      <td>3</td>\n",
       "      <td>14</td>\n",
       "      <td>Lombardia</td>\n",
       "      <td>Sondrio</td>\n",
       "      <td>Albaredo per San Marco</td>\n",
       "      <td>14001</td>\n",
       "      <td>1</td>\n",
       "      <td>11</td>\n",
       "      <td>219</td>\n",
       "      <td>19-02-2019</td>\n",
       "      <td>0</td>\n",
       "      <td>1</td>\n",
       "      <td>1</td>\n",
       "    </tr>\n",
       "  </tbody>\n",
       "</table>\n",
       "</div>"
      ],
      "text/plain": [
       "         REG  PROV NOME_REGIONE NOME_PROVINCIA             NOME_COMUNE  \\\n",
       "1905426    3    14    Lombardia        Sondrio  Albaredo per San Marco   \n",
       "1905427    3    14    Lombardia        Sondrio  Albaredo per San Marco   \n",
       "1905428    3    14    Lombardia        Sondrio  Albaredo per San Marco   \n",
       "1905429    3    14    Lombardia        Sondrio  Albaredo per San Marco   \n",
       "1905430    3    14    Lombardia        Sondrio  Albaredo per San Marco   \n",
       "\n",
       "         COD_PROVCOM  TIPO_COMUNE  CL_ETA   GE        Data Maschi Femmine  \\\n",
       "1905426        14001            1      11  219  19-02-2015      0       0   \n",
       "1905427        14001            1      11  219  19-02-2016      0       0   \n",
       "1905428        14001            1      11  219  19-02-2017      0       0   \n",
       "1905429        14001            1      11  219  19-02-2018      0       0   \n",
       "1905430        14001            1      11  219  19-02-2019      0       1   \n",
       "\n",
       "        Totale  \n",
       "1905426      0  \n",
       "1905427      0  \n",
       "1905428      0  \n",
       "1905429      0  \n",
       "1905430      1  "
      ]
     },
     "execution_count": 15,
     "metadata": {},
     "output_type": "execute_result"
    }
   ],
   "source": [
    "tot_province = df2[df2['NOME_PROVINCIA'].isin(lista_province) == False]\n",
    "tot_province.head()"
   ]
  },
  {
   "cell_type": "code",
   "execution_count": 16,
   "metadata": {},
   "outputs": [
    {
     "data": {
      "text/plain": [
       "array(['Sondrio', 'Rovigo', 'Gorizia', 'Trieste', 'Piacenza', 'Ravenna',\n",
       "       'Ragusa', 'Pordenone'], dtype=object)"
      ]
     },
     "execution_count": 16,
     "metadata": {},
     "output_type": "execute_result"
    }
   ],
   "source": [
    "tot_province = tot_province['NOME_PROVINCIA'].unique()\n",
    "tot_province"
   ]
  },
  {
   "cell_type": "markdown",
   "metadata": {},
   "source": [
    "<h2> CONCLUSIONE </h2>"
   ]
  },
  {
   "cell_type": "markdown",
   "metadata": {},
   "source": [
    "<p> Le province di cui non possediamo i dati di tutti i comuni sono <b>99</b>. Per cui, andandole a eliminare dai dati della Protezione Civile che comprendono <b> 107 </b> province, risulta che le province per cui abbiamo i dati completi per ogni comune appartenente sono <b> 8 </b>.\n",
    "    </p>"
   ]
  },
  {
   "cell_type": "markdown",
   "metadata": {},
   "source": [
    "<h1> CREAZIONE DELLA NUOVA SERIE STORICA </h1>"
   ]
  },
  {
   "cell_type": "markdown",
   "metadata": {},
   "source": [
    "<p> Nella nuova serie storica sono presenti i decessi dal 2015 al 30 giugno 2020 dei comuni che fanno parte della provincia di <b>Piacenza</b>, <b>Ravenna</b>, <b>Gorizia</b>, <b>Trieste</b>, <b>Pordenone</b>, <b>Sondrio</b>, <b>Ragusa</b> e <b>Rovigo</b>."
   ]
  },
  {
   "cell_type": "code",
   "execution_count": 20,
   "metadata": {},
   "outputs": [
    {
     "data": {
      "text/html": [
       "<div>\n",
       "<style scoped>\n",
       "    .dataframe tbody tr th:only-of-type {\n",
       "        vertical-align: middle;\n",
       "    }\n",
       "\n",
       "    .dataframe tbody tr th {\n",
       "        vertical-align: top;\n",
       "    }\n",
       "\n",
       "    .dataframe thead th {\n",
       "        text-align: right;\n",
       "    }\n",
       "</style>\n",
       "<table border=\"1\" class=\"dataframe\">\n",
       "  <thead>\n",
       "    <tr style=\"text-align: right;\">\n",
       "      <th></th>\n",
       "      <th>REG</th>\n",
       "      <th>NOME_REGIONE</th>\n",
       "      <th>PROV</th>\n",
       "      <th>NOME_PROVINCIA</th>\n",
       "      <th>COD_PROVCOM</th>\n",
       "      <th>NOME_COMUNE</th>\n",
       "      <th>DATA</th>\n",
       "      <th>TOTALE</th>\n",
       "    </tr>\n",
       "  </thead>\n",
       "  <tbody>\n",
       "    <tr>\n",
       "      <th>282858</th>\n",
       "      <td>3</td>\n",
       "      <td>Lombardia</td>\n",
       "      <td>14</td>\n",
       "      <td>Sondrio</td>\n",
       "      <td>14001</td>\n",
       "      <td>Albaredo per San Marco</td>\n",
       "      <td>2018-01-15</td>\n",
       "      <td>1</td>\n",
       "    </tr>\n",
       "    <tr>\n",
       "      <th>282859</th>\n",
       "      <td>3</td>\n",
       "      <td>Lombardia</td>\n",
       "      <td>14</td>\n",
       "      <td>Sondrio</td>\n",
       "      <td>14001</td>\n",
       "      <td>Albaredo per San Marco</td>\n",
       "      <td>2018-01-20</td>\n",
       "      <td>1</td>\n",
       "    </tr>\n",
       "    <tr>\n",
       "      <th>282860</th>\n",
       "      <td>3</td>\n",
       "      <td>Lombardia</td>\n",
       "      <td>14</td>\n",
       "      <td>Sondrio</td>\n",
       "      <td>14001</td>\n",
       "      <td>Albaredo per San Marco</td>\n",
       "      <td>2020-01-29</td>\n",
       "      <td>1</td>\n",
       "    </tr>\n",
       "    <tr>\n",
       "      <th>282861</th>\n",
       "      <td>3</td>\n",
       "      <td>Lombardia</td>\n",
       "      <td>14</td>\n",
       "      <td>Sondrio</td>\n",
       "      <td>14001</td>\n",
       "      <td>Albaredo per San Marco</td>\n",
       "      <td>2015-01-30</td>\n",
       "      <td>1</td>\n",
       "    </tr>\n",
       "    <tr>\n",
       "      <th>282862</th>\n",
       "      <td>3</td>\n",
       "      <td>Lombardia</td>\n",
       "      <td>14</td>\n",
       "      <td>Sondrio</td>\n",
       "      <td>14001</td>\n",
       "      <td>Albaredo per San Marco</td>\n",
       "      <td>2017-02-15</td>\n",
       "      <td>1</td>\n",
       "    </tr>\n",
       "    <tr>\n",
       "      <th>...</th>\n",
       "      <td>...</td>\n",
       "      <td>...</td>\n",
       "      <td>...</td>\n",
       "      <td>...</td>\n",
       "      <td>...</td>\n",
       "      <td>...</td>\n",
       "      <td>...</td>\n",
       "      <td>...</td>\n",
       "    </tr>\n",
       "    <tr>\n",
       "      <th>1889755</th>\n",
       "      <td>6</td>\n",
       "      <td>Friuli-Venezia Giulia</td>\n",
       "      <td>93</td>\n",
       "      <td>Pordenone</td>\n",
       "      <td>93053</td>\n",
       "      <td>Valvasone Arzene</td>\n",
       "      <td>2017-12-24</td>\n",
       "      <td>1</td>\n",
       "    </tr>\n",
       "    <tr>\n",
       "      <th>1889756</th>\n",
       "      <td>6</td>\n",
       "      <td>Friuli-Venezia Giulia</td>\n",
       "      <td>93</td>\n",
       "      <td>Pordenone</td>\n",
       "      <td>93053</td>\n",
       "      <td>Valvasone Arzene</td>\n",
       "      <td>2015-12-27</td>\n",
       "      <td>1</td>\n",
       "    </tr>\n",
       "    <tr>\n",
       "      <th>1889757</th>\n",
       "      <td>6</td>\n",
       "      <td>Friuli-Venezia Giulia</td>\n",
       "      <td>93</td>\n",
       "      <td>Pordenone</td>\n",
       "      <td>93053</td>\n",
       "      <td>Valvasone Arzene</td>\n",
       "      <td>2017-12-27</td>\n",
       "      <td>1</td>\n",
       "    </tr>\n",
       "    <tr>\n",
       "      <th>1889758</th>\n",
       "      <td>6</td>\n",
       "      <td>Friuli-Venezia Giulia</td>\n",
       "      <td>93</td>\n",
       "      <td>Pordenone</td>\n",
       "      <td>93053</td>\n",
       "      <td>Valvasone Arzene</td>\n",
       "      <td>2018-12-29</td>\n",
       "      <td>1</td>\n",
       "    </tr>\n",
       "    <tr>\n",
       "      <th>1889759</th>\n",
       "      <td>6</td>\n",
       "      <td>Friuli-Venezia Giulia</td>\n",
       "      <td>93</td>\n",
       "      <td>Pordenone</td>\n",
       "      <td>93053</td>\n",
       "      <td>Valvasone Arzene</td>\n",
       "      <td>2019-12-31</td>\n",
       "      <td>1</td>\n",
       "    </tr>\n",
       "  </tbody>\n",
       "</table>\n",
       "<p>87108 rows × 8 columns</p>\n",
       "</div>"
      ],
      "text/plain": [
       "         REG           NOME_REGIONE  PROV NOME_PROVINCIA  COD_PROVCOM  \\\n",
       "282858     3              Lombardia    14        Sondrio        14001   \n",
       "282859     3              Lombardia    14        Sondrio        14001   \n",
       "282860     3              Lombardia    14        Sondrio        14001   \n",
       "282861     3              Lombardia    14        Sondrio        14001   \n",
       "282862     3              Lombardia    14        Sondrio        14001   \n",
       "...      ...                    ...   ...            ...          ...   \n",
       "1889755    6  Friuli-Venezia Giulia    93      Pordenone        93053   \n",
       "1889756    6  Friuli-Venezia Giulia    93      Pordenone        93053   \n",
       "1889757    6  Friuli-Venezia Giulia    93      Pordenone        93053   \n",
       "1889758    6  Friuli-Venezia Giulia    93      Pordenone        93053   \n",
       "1889759    6  Friuli-Venezia Giulia    93      Pordenone        93053   \n",
       "\n",
       "                    NOME_COMUNE       DATA  TOTALE  \n",
       "282858   Albaredo per San Marco 2018-01-15       1  \n",
       "282859   Albaredo per San Marco 2018-01-20       1  \n",
       "282860   Albaredo per San Marco 2020-01-29       1  \n",
       "282861   Albaredo per San Marco 2015-01-30       1  \n",
       "282862   Albaredo per San Marco 2017-02-15       1  \n",
       "...                         ...        ...     ...  \n",
       "1889755        Valvasone Arzene 2017-12-24       1  \n",
       "1889756        Valvasone Arzene 2015-12-27       1  \n",
       "1889757        Valvasone Arzene 2017-12-27       1  \n",
       "1889758        Valvasone Arzene 2018-12-29       1  \n",
       "1889759        Valvasone Arzene 2019-12-31       1  \n",
       "\n",
       "[87108 rows x 8 columns]"
      ]
     },
     "execution_count": 20,
     "metadata": {},
     "output_type": "execute_result"
    }
   ],
   "source": [
    "df_comuni_completi = df[df['NOME_PROVINCIA'].isin(tot_province)]\n",
    "df_comuni_completi"
   ]
  },
  {
   "cell_type": "code",
   "execution_count": 21,
   "metadata": {},
   "outputs": [],
   "source": [
    "# salvo il DataFrame\n",
    "df_comuni_completi.to_csv('csv/df_comuni_completi.csv', index=False)"
   ]
  },
  {
   "cell_type": "code",
   "execution_count": null,
   "metadata": {},
   "outputs": [],
   "source": []
  }
 ],
 "metadata": {
  "kernelspec": {
   "display_name": "Python 3",
   "language": "python",
   "name": "python3"
  },
  "language_info": {
   "codemirror_mode": {
    "name": "ipython",
    "version": 3
   },
   "file_extension": ".py",
   "mimetype": "text/x-python",
   "name": "python",
   "nbconvert_exporter": "python",
   "pygments_lexer": "ipython3",
   "version": "3.8.3"
  }
 },
 "nbformat": 4,
 "nbformat_minor": 4
}

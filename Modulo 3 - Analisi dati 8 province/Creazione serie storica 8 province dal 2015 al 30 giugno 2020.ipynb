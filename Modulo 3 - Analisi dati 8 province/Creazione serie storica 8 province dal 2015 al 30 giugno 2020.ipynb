{
 "cells": [
  {
   "cell_type": "markdown",
   "metadata": {},
   "source": [
    "<h2>Creazione serie storica dei decessi delle 8 province complete dal 2015 al 30 giugno 2020"
   ]
  },
  {
   "cell_type": "code",
   "execution_count": 1,
   "metadata": {},
   "outputs": [
    {
     "data": {
      "text/html": [
       "<div>\n",
       "<style scoped>\n",
       "    .dataframe tbody tr th:only-of-type {\n",
       "        vertical-align: middle;\n",
       "    }\n",
       "\n",
       "    .dataframe tbody tr th {\n",
       "        vertical-align: top;\n",
       "    }\n",
       "\n",
       "    .dataframe thead th {\n",
       "        text-align: right;\n",
       "    }\n",
       "</style>\n",
       "<table border=\"1\" class=\"dataframe\">\n",
       "  <thead>\n",
       "    <tr style=\"text-align: right;\">\n",
       "      <th></th>\n",
       "      <th>REG</th>\n",
       "      <th>NOME_REGIONE</th>\n",
       "      <th>PROV</th>\n",
       "      <th>NOME_PROVINCIA</th>\n",
       "      <th>COD_PROVCOM</th>\n",
       "      <th>NOME_COMUNE</th>\n",
       "      <th>DATA</th>\n",
       "      <th>TOTALE</th>\n",
       "    </tr>\n",
       "  </thead>\n",
       "  <tbody>\n",
       "    <tr>\n",
       "      <th>0</th>\n",
       "      <td>3</td>\n",
       "      <td>Lombardia</td>\n",
       "      <td>14</td>\n",
       "      <td>Sondrio</td>\n",
       "      <td>14001</td>\n",
       "      <td>Albaredo per San Marco</td>\n",
       "      <td>2018-01-15</td>\n",
       "      <td>1</td>\n",
       "    </tr>\n",
       "    <tr>\n",
       "      <th>1</th>\n",
       "      <td>3</td>\n",
       "      <td>Lombardia</td>\n",
       "      <td>14</td>\n",
       "      <td>Sondrio</td>\n",
       "      <td>14001</td>\n",
       "      <td>Albaredo per San Marco</td>\n",
       "      <td>2018-01-20</td>\n",
       "      <td>1</td>\n",
       "    </tr>\n",
       "    <tr>\n",
       "      <th>2</th>\n",
       "      <td>3</td>\n",
       "      <td>Lombardia</td>\n",
       "      <td>14</td>\n",
       "      <td>Sondrio</td>\n",
       "      <td>14001</td>\n",
       "      <td>Albaredo per San Marco</td>\n",
       "      <td>2020-01-29</td>\n",
       "      <td>1</td>\n",
       "    </tr>\n",
       "    <tr>\n",
       "      <th>3</th>\n",
       "      <td>3</td>\n",
       "      <td>Lombardia</td>\n",
       "      <td>14</td>\n",
       "      <td>Sondrio</td>\n",
       "      <td>14001</td>\n",
       "      <td>Albaredo per San Marco</td>\n",
       "      <td>2015-01-30</td>\n",
       "      <td>1</td>\n",
       "    </tr>\n",
       "    <tr>\n",
       "      <th>4</th>\n",
       "      <td>3</td>\n",
       "      <td>Lombardia</td>\n",
       "      <td>14</td>\n",
       "      <td>Sondrio</td>\n",
       "      <td>14001</td>\n",
       "      <td>Albaredo per San Marco</td>\n",
       "      <td>2017-02-15</td>\n",
       "      <td>1</td>\n",
       "    </tr>\n",
       "  </tbody>\n",
       "</table>\n",
       "</div>"
      ],
      "text/plain": [
       "   REG NOME_REGIONE  PROV NOME_PROVINCIA  COD_PROVCOM             NOME_COMUNE  \\\n",
       "0    3    Lombardia    14        Sondrio        14001  Albaredo per San Marco   \n",
       "1    3    Lombardia    14        Sondrio        14001  Albaredo per San Marco   \n",
       "2    3    Lombardia    14        Sondrio        14001  Albaredo per San Marco   \n",
       "3    3    Lombardia    14        Sondrio        14001  Albaredo per San Marco   \n",
       "4    3    Lombardia    14        Sondrio        14001  Albaredo per San Marco   \n",
       "\n",
       "         DATA  TOTALE  \n",
       "0  2018-01-15       1  \n",
       "1  2018-01-20       1  \n",
       "2  2020-01-29       1  \n",
       "3  2015-01-30       1  \n",
       "4  2017-02-15       1  "
      ]
     },
     "execution_count": 1,
     "metadata": {},
     "output_type": "execute_result"
    }
   ],
   "source": [
    "import pandas as pd\n",
    "df = pd.read_csv('csv/df_comuni_completi.csv')\n",
    "df.head()"
   ]
  },
  {
   "cell_type": "code",
   "execution_count": 2,
   "metadata": {},
   "outputs": [],
   "source": [
    "df['DATA'] = pd.to_datetime(df['DATA'])"
   ]
  },
  {
   "cell_type": "code",
   "execution_count": 3,
   "metadata": {},
   "outputs": [
    {
     "name": "stdout",
     "output_type": "stream",
     "text": [
      "<class 'pandas.core.frame.DataFrame'>\n",
      "RangeIndex: 87108 entries, 0 to 87107\n",
      "Data columns (total 8 columns):\n",
      " #   Column          Non-Null Count  Dtype         \n",
      "---  ------          --------------  -----         \n",
      " 0   REG             87108 non-null  int64         \n",
      " 1   NOME_REGIONE    87108 non-null  object        \n",
      " 2   PROV            87108 non-null  int64         \n",
      " 3   NOME_PROVINCIA  87108 non-null  object        \n",
      " 4   COD_PROVCOM     87108 non-null  int64         \n",
      " 5   NOME_COMUNE     87108 non-null  object        \n",
      " 6   DATA            87108 non-null  datetime64[ns]\n",
      " 7   TOTALE          87108 non-null  int64         \n",
      "dtypes: datetime64[ns](1), int64(4), object(3)\n",
      "memory usage: 5.3+ MB\n"
     ]
    }
   ],
   "source": [
    "df.info()"
   ]
  },
  {
   "cell_type": "code",
   "execution_count": 4,
   "metadata": {},
   "outputs": [
    {
     "data": {
      "text/html": [
       "<div>\n",
       "<style scoped>\n",
       "    .dataframe tbody tr th:only-of-type {\n",
       "        vertical-align: middle;\n",
       "    }\n",
       "\n",
       "    .dataframe tbody tr th {\n",
       "        vertical-align: top;\n",
       "    }\n",
       "\n",
       "    .dataframe thead th {\n",
       "        text-align: right;\n",
       "    }\n",
       "</style>\n",
       "<table border=\"1\" class=\"dataframe\">\n",
       "  <thead>\n",
       "    <tr style=\"text-align: right;\">\n",
       "      <th></th>\n",
       "      <th>DATA</th>\n",
       "      <th>TOTALE</th>\n",
       "    </tr>\n",
       "  </thead>\n",
       "  <tbody>\n",
       "    <tr>\n",
       "      <th>0</th>\n",
       "      <td>2018-01-15</td>\n",
       "      <td>1</td>\n",
       "    </tr>\n",
       "    <tr>\n",
       "      <th>1</th>\n",
       "      <td>2018-01-20</td>\n",
       "      <td>1</td>\n",
       "    </tr>\n",
       "    <tr>\n",
       "      <th>2</th>\n",
       "      <td>2020-01-29</td>\n",
       "      <td>1</td>\n",
       "    </tr>\n",
       "    <tr>\n",
       "      <th>3</th>\n",
       "      <td>2015-01-30</td>\n",
       "      <td>1</td>\n",
       "    </tr>\n",
       "    <tr>\n",
       "      <th>4</th>\n",
       "      <td>2017-02-15</td>\n",
       "      <td>1</td>\n",
       "    </tr>\n",
       "  </tbody>\n",
       "</table>\n",
       "</div>"
      ],
      "text/plain": [
       "        DATA  TOTALE\n",
       "0 2018-01-15       1\n",
       "1 2018-01-20       1\n",
       "2 2020-01-29       1\n",
       "3 2015-01-30       1\n",
       "4 2017-02-15       1"
      ]
     },
     "execution_count": 4,
     "metadata": {},
     "output_type": "execute_result"
    }
   ],
   "source": [
    "df.drop(['REG', 'NOME_REGIONE', 'PROV', 'NOME_PROVINCIA', 'COD_PROVCOM', 'NOME_COMUNE'], axis=1, inplace=True)\n",
    "df.head()"
   ]
  },
  {
   "cell_type": "code",
   "execution_count": 5,
   "metadata": {},
   "outputs": [
    {
     "data": {
      "text/html": [
       "<div>\n",
       "<style scoped>\n",
       "    .dataframe tbody tr th:only-of-type {\n",
       "        vertical-align: middle;\n",
       "    }\n",
       "\n",
       "    .dataframe tbody tr th {\n",
       "        vertical-align: top;\n",
       "    }\n",
       "\n",
       "    .dataframe thead th {\n",
       "        text-align: right;\n",
       "    }\n",
       "</style>\n",
       "<table border=\"1\" class=\"dataframe\">\n",
       "  <thead>\n",
       "    <tr style=\"text-align: right;\">\n",
       "      <th></th>\n",
       "      <th>TOTALE</th>\n",
       "    </tr>\n",
       "    <tr>\n",
       "      <th>DATA</th>\n",
       "      <th></th>\n",
       "    </tr>\n",
       "  </thead>\n",
       "  <tbody>\n",
       "    <tr>\n",
       "      <th>2015-01-01</th>\n",
       "      <td>109</td>\n",
       "    </tr>\n",
       "    <tr>\n",
       "      <th>2015-01-02</th>\n",
       "      <td>104</td>\n",
       "    </tr>\n",
       "    <tr>\n",
       "      <th>2015-01-03</th>\n",
       "      <td>85</td>\n",
       "    </tr>\n",
       "    <tr>\n",
       "      <th>2015-01-04</th>\n",
       "      <td>80</td>\n",
       "    </tr>\n",
       "    <tr>\n",
       "      <th>2015-01-05</th>\n",
       "      <td>100</td>\n",
       "    </tr>\n",
       "  </tbody>\n",
       "</table>\n",
       "</div>"
      ],
      "text/plain": [
       "            TOTALE\n",
       "DATA              \n",
       "2015-01-01     109\n",
       "2015-01-02     104\n",
       "2015-01-03      85\n",
       "2015-01-04      80\n",
       "2015-01-05     100"
      ]
     },
     "execution_count": 5,
     "metadata": {},
     "output_type": "execute_result"
    }
   ],
   "source": [
    "df=df.groupby('DATA').sum()\n",
    "df.head()"
   ]
  },
  {
   "cell_type": "code",
   "execution_count": 6,
   "metadata": {},
   "outputs": [],
   "source": [
    "df.to_csv('csv/serie_storica_8province.csv')"
   ]
  },
  {
   "cell_type": "code",
   "execution_count": null,
   "metadata": {},
   "outputs": [],
   "source": []
  }
 ],
 "metadata": {
  "kernelspec": {
   "display_name": "Python 3",
   "language": "python",
   "name": "python3"
  },
  "language_info": {
   "codemirror_mode": {
    "name": "ipython",
    "version": 3
   },
   "file_extension": ".py",
   "mimetype": "text/x-python",
   "name": "python",
   "nbconvert_exporter": "python",
   "pygments_lexer": "ipython3",
   "version": "3.8.3"
  }
 },
 "nbformat": 4,
 "nbformat_minor": 4
}

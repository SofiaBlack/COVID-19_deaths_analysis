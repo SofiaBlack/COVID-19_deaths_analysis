{
 "cells": [
  {
   "cell_type": "markdown",
   "metadata": {},
   "source": [
    "<h1> Creazione serie storica dei decessi giornalieri dal 2015 al 30 settembre 2020 </h1>"
   ]
  },
  {
   "cell_type": "code",
   "execution_count": 1,
   "metadata": {},
   "outputs": [
    {
     "data": {
      "text/html": [
       "<div>\n",
       "<style scoped>\n",
       "    .dataframe tbody tr th:only-of-type {\n",
       "        vertical-align: middle;\n",
       "    }\n",
       "\n",
       "    .dataframe tbody tr th {\n",
       "        vertical-align: top;\n",
       "    }\n",
       "\n",
       "    .dataframe thead th {\n",
       "        text-align: right;\n",
       "    }\n",
       "</style>\n",
       "<table border=\"1\" class=\"dataframe\">\n",
       "  <thead>\n",
       "    <tr style=\"text-align: right;\">\n",
       "      <th></th>\n",
       "      <th>REG</th>\n",
       "      <th>NOME_REGIONE</th>\n",
       "      <th>PROV</th>\n",
       "      <th>NOME_PROVINCIA</th>\n",
       "      <th>COD_PROVCOM</th>\n",
       "      <th>NOME_COMUNE</th>\n",
       "      <th>DATA</th>\n",
       "      <th>TOTALE</th>\n",
       "    </tr>\n",
       "  </thead>\n",
       "  <tbody>\n",
       "    <tr>\n",
       "      <th>0</th>\n",
       "      <td>12</td>\n",
       "      <td>Lazio</td>\n",
       "      <td>58</td>\n",
       "      <td>Roma</td>\n",
       "      <td>58091</td>\n",
       "      <td>Roma</td>\n",
       "      <td>2015-10-20</td>\n",
       "      <td>76</td>\n",
       "    </tr>\n",
       "    <tr>\n",
       "      <th>1</th>\n",
       "      <td>12</td>\n",
       "      <td>Lazio</td>\n",
       "      <td>58</td>\n",
       "      <td>Roma</td>\n",
       "      <td>58091</td>\n",
       "      <td>Roma</td>\n",
       "      <td>2016-10-20</td>\n",
       "      <td>70</td>\n",
       "    </tr>\n",
       "    <tr>\n",
       "      <th>2</th>\n",
       "      <td>12</td>\n",
       "      <td>Lazio</td>\n",
       "      <td>58</td>\n",
       "      <td>Roma</td>\n",
       "      <td>58091</td>\n",
       "      <td>Roma</td>\n",
       "      <td>2017-10-20</td>\n",
       "      <td>74</td>\n",
       "    </tr>\n",
       "    <tr>\n",
       "      <th>3</th>\n",
       "      <td>12</td>\n",
       "      <td>Lazio</td>\n",
       "      <td>58</td>\n",
       "      <td>Roma</td>\n",
       "      <td>58091</td>\n",
       "      <td>Roma</td>\n",
       "      <td>2018-10-20</td>\n",
       "      <td>66</td>\n",
       "    </tr>\n",
       "    <tr>\n",
       "      <th>4</th>\n",
       "      <td>12</td>\n",
       "      <td>Lazio</td>\n",
       "      <td>58</td>\n",
       "      <td>Roma</td>\n",
       "      <td>58091</td>\n",
       "      <td>Roma</td>\n",
       "      <td>2019-10-20</td>\n",
       "      <td>61</td>\n",
       "    </tr>\n",
       "    <tr>\n",
       "      <th>5</th>\n",
       "      <td>12</td>\n",
       "      <td>Lazio</td>\n",
       "      <td>58</td>\n",
       "      <td>Roma</td>\n",
       "      <td>58091</td>\n",
       "      <td>Roma</td>\n",
       "      <td>2015-12-28</td>\n",
       "      <td>69</td>\n",
       "    </tr>\n",
       "    <tr>\n",
       "      <th>6</th>\n",
       "      <td>12</td>\n",
       "      <td>Lazio</td>\n",
       "      <td>58</td>\n",
       "      <td>Roma</td>\n",
       "      <td>58091</td>\n",
       "      <td>Roma</td>\n",
       "      <td>2016-12-28</td>\n",
       "      <td>103</td>\n",
       "    </tr>\n",
       "    <tr>\n",
       "      <th>7</th>\n",
       "      <td>12</td>\n",
       "      <td>Lazio</td>\n",
       "      <td>58</td>\n",
       "      <td>Roma</td>\n",
       "      <td>58091</td>\n",
       "      <td>Roma</td>\n",
       "      <td>2017-12-28</td>\n",
       "      <td>98</td>\n",
       "    </tr>\n",
       "    <tr>\n",
       "      <th>8</th>\n",
       "      <td>12</td>\n",
       "      <td>Lazio</td>\n",
       "      <td>58</td>\n",
       "      <td>Roma</td>\n",
       "      <td>58091</td>\n",
       "      <td>Roma</td>\n",
       "      <td>2018-12-28</td>\n",
       "      <td>105</td>\n",
       "    </tr>\n",
       "    <tr>\n",
       "      <th>9</th>\n",
       "      <td>12</td>\n",
       "      <td>Lazio</td>\n",
       "      <td>58</td>\n",
       "      <td>Roma</td>\n",
       "      <td>58091</td>\n",
       "      <td>Roma</td>\n",
       "      <td>2019-12-28</td>\n",
       "      <td>81</td>\n",
       "    </tr>\n",
       "  </tbody>\n",
       "</table>\n",
       "</div>"
      ],
      "text/plain": [
       "   REG NOME_REGIONE  PROV NOME_PROVINCIA  COD_PROVCOM NOME_COMUNE        DATA  \\\n",
       "0   12        Lazio    58           Roma        58091        Roma  2015-10-20   \n",
       "1   12        Lazio    58           Roma        58091        Roma  2016-10-20   \n",
       "2   12        Lazio    58           Roma        58091        Roma  2017-10-20   \n",
       "3   12        Lazio    58           Roma        58091        Roma  2018-10-20   \n",
       "4   12        Lazio    58           Roma        58091        Roma  2019-10-20   \n",
       "5   12        Lazio    58           Roma        58091        Roma  2015-12-28   \n",
       "6   12        Lazio    58           Roma        58091        Roma  2016-12-28   \n",
       "7   12        Lazio    58           Roma        58091        Roma  2017-12-28   \n",
       "8   12        Lazio    58           Roma        58091        Roma  2018-12-28   \n",
       "9   12        Lazio    58           Roma        58091        Roma  2019-12-28   \n",
       "\n",
       "   TOTALE  \n",
       "0      76  \n",
       "1      70  \n",
       "2      74  \n",
       "3      66  \n",
       "4      61  \n",
       "5      69  \n",
       "6     103  \n",
       "7      98  \n",
       "8     105  \n",
       "9      81  "
      ]
     },
     "execution_count": 1,
     "metadata": {},
     "output_type": "execute_result"
    }
   ],
   "source": [
    "import pandas as pd\n",
    "df = pd.read_csv('csv/serieStorica_30settembre2020.csv')\n",
    "df.head(10)"
   ]
  },
  {
   "cell_type": "code",
   "execution_count": 2,
   "metadata": {},
   "outputs": [
    {
     "name": "stdout",
     "output_type": "stream",
     "text": [
      "2289159\n"
     ]
    }
   ],
   "source": [
    "#numero di record\n",
    "index = df.index\n",
    "record = len(index)\n",
    "print(record)"
   ]
  },
  {
   "cell_type": "code",
   "execution_count": 3,
   "metadata": {},
   "outputs": [
    {
     "name": "stdout",
     "output_type": "stream",
     "text": [
      "mean 1.6407711303583543\n",
      "min 1\n",
      "max 200\n"
     ]
    }
   ],
   "source": [
    "import numpy as np\n",
    "deceduti = df['TOTALE']\n",
    "print('mean', np.mean(deceduti))\n",
    "print('min', np.min(deceduti))\n",
    "print('max', np.max(deceduti))"
   ]
  },
  {
   "cell_type": "markdown",
   "metadata": {},
   "source": [
    "Il DataFrame è stato rielaborato eliminando le informazioni non necessarie ai fini della ricerca. Sono stati per cui eliminati i campi realitivi al luogo del decesso (essendo un'analisi a livello nazionale)e al sesso del defunto. \n",
    "\n",
    "I campi necessari al fine di creare una serie storica sono il campo `Data` e il campo `Totale` che contiene il numero di decessi avvenuti in un determinato comune in una determinata data."
   ]
  },
  {
   "cell_type": "code",
   "execution_count": 4,
   "metadata": {},
   "outputs": [
    {
     "data": {
      "text/html": [
       "<div>\n",
       "<style scoped>\n",
       "    .dataframe tbody tr th:only-of-type {\n",
       "        vertical-align: middle;\n",
       "    }\n",
       "\n",
       "    .dataframe tbody tr th {\n",
       "        vertical-align: top;\n",
       "    }\n",
       "\n",
       "    .dataframe thead th {\n",
       "        text-align: right;\n",
       "    }\n",
       "</style>\n",
       "<table border=\"1\" class=\"dataframe\">\n",
       "  <thead>\n",
       "    <tr style=\"text-align: right;\">\n",
       "      <th></th>\n",
       "      <th>DATA</th>\n",
       "      <th>TOTALE</th>\n",
       "    </tr>\n",
       "  </thead>\n",
       "  <tbody>\n",
       "    <tr>\n",
       "      <th>0</th>\n",
       "      <td>2015-10-20</td>\n",
       "      <td>76</td>\n",
       "    </tr>\n",
       "    <tr>\n",
       "      <th>1</th>\n",
       "      <td>2016-10-20</td>\n",
       "      <td>70</td>\n",
       "    </tr>\n",
       "    <tr>\n",
       "      <th>2</th>\n",
       "      <td>2017-10-20</td>\n",
       "      <td>74</td>\n",
       "    </tr>\n",
       "    <tr>\n",
       "      <th>3</th>\n",
       "      <td>2018-10-20</td>\n",
       "      <td>66</td>\n",
       "    </tr>\n",
       "    <tr>\n",
       "      <th>4</th>\n",
       "      <td>2019-10-20</td>\n",
       "      <td>61</td>\n",
       "    </tr>\n",
       "  </tbody>\n",
       "</table>\n",
       "</div>"
      ],
      "text/plain": [
       "         DATA  TOTALE\n",
       "0  2015-10-20      76\n",
       "1  2016-10-20      70\n",
       "2  2017-10-20      74\n",
       "3  2018-10-20      66\n",
       "4  2019-10-20      61"
      ]
     },
     "execution_count": 4,
     "metadata": {},
     "output_type": "execute_result"
    }
   ],
   "source": [
    "df.drop(['REG', 'NOME_REGIONE', 'PROV', 'NOME_PROVINCIA', 'NOME_COMUNE', 'COD_PROVCOM'], axis=1, inplace=True)\n",
    "df.head()"
   ]
  },
  {
   "cell_type": "markdown",
   "metadata": {},
   "source": [
    "Per poter sommare il campo `Totale` in base al valore del campo `Data` è necessario rendere i parametri del campo `Data` di tipo `datetime` e i parametri del campo `Totale` di tipo `int64`, così da poter creare una <b>serie storica</b> dove per ogni data giornaliera dal <b>1 gennaio 2015</b> al <b>31 agosto 2020</b> venga indicato il numero totale dei decessi registrati nei comuni presenti nel DataFrame iniziale."
   ]
  },
  {
   "cell_type": "code",
   "execution_count": 5,
   "metadata": {},
   "outputs": [
    {
     "name": "stdout",
     "output_type": "stream",
     "text": [
      "<class 'pandas.core.frame.DataFrame'>\n",
      "RangeIndex: 2289159 entries, 0 to 2289158\n",
      "Data columns (total 2 columns):\n",
      " #   Column  Dtype         \n",
      "---  ------  -----         \n",
      " 0   DATA    datetime64[ns]\n",
      " 1   TOTALE  int64         \n",
      "dtypes: datetime64[ns](1), int64(1)\n",
      "memory usage: 34.9 MB\n"
     ]
    }
   ],
   "source": [
    "df['DATA'] = pd.to_datetime(df['DATA'])\n",
    "df['TOTALE'] = pd.to_numeric(df['TOTALE'])\n",
    "df.info()"
   ]
  },
  {
   "cell_type": "code",
   "execution_count": 6,
   "metadata": {},
   "outputs": [
    {
     "data": {
      "text/html": [
       "<div>\n",
       "<style scoped>\n",
       "    .dataframe tbody tr th:only-of-type {\n",
       "        vertical-align: middle;\n",
       "    }\n",
       "\n",
       "    .dataframe tbody tr th {\n",
       "        vertical-align: top;\n",
       "    }\n",
       "\n",
       "    .dataframe thead th {\n",
       "        text-align: right;\n",
       "    }\n",
       "</style>\n",
       "<table border=\"1\" class=\"dataframe\">\n",
       "  <thead>\n",
       "    <tr style=\"text-align: right;\">\n",
       "      <th></th>\n",
       "      <th>TOTALE</th>\n",
       "    </tr>\n",
       "    <tr>\n",
       "      <th>DATA</th>\n",
       "      <th></th>\n",
       "    </tr>\n",
       "  </thead>\n",
       "  <tbody>\n",
       "    <tr>\n",
       "      <th>2015-01-01</th>\n",
       "      <td>2632</td>\n",
       "    </tr>\n",
       "    <tr>\n",
       "      <th>2015-01-02</th>\n",
       "      <td>2182</td>\n",
       "    </tr>\n",
       "    <tr>\n",
       "      <th>2015-01-03</th>\n",
       "      <td>2215</td>\n",
       "    </tr>\n",
       "    <tr>\n",
       "      <th>2015-01-04</th>\n",
       "      <td>2264</td>\n",
       "    </tr>\n",
       "    <tr>\n",
       "      <th>2015-01-05</th>\n",
       "      <td>2301</td>\n",
       "    </tr>\n",
       "    <tr>\n",
       "      <th>2015-01-06</th>\n",
       "      <td>2243</td>\n",
       "    </tr>\n",
       "    <tr>\n",
       "      <th>2015-01-07</th>\n",
       "      <td>2181</td>\n",
       "    </tr>\n",
       "    <tr>\n",
       "      <th>2015-01-08</th>\n",
       "      <td>2207</td>\n",
       "    </tr>\n",
       "    <tr>\n",
       "      <th>2015-01-09</th>\n",
       "      <td>2292</td>\n",
       "    </tr>\n",
       "    <tr>\n",
       "      <th>2015-01-10</th>\n",
       "      <td>2359</td>\n",
       "    </tr>\n",
       "  </tbody>\n",
       "</table>\n",
       "</div>"
      ],
      "text/plain": [
       "            TOTALE\n",
       "DATA              \n",
       "2015-01-01    2632\n",
       "2015-01-02    2182\n",
       "2015-01-03    2215\n",
       "2015-01-04    2264\n",
       "2015-01-05    2301\n",
       "2015-01-06    2243\n",
       "2015-01-07    2181\n",
       "2015-01-08    2207\n",
       "2015-01-09    2292\n",
       "2015-01-10    2359"
      ]
     },
     "execution_count": 6,
     "metadata": {},
     "output_type": "execute_result"
    }
   ],
   "source": [
    "df=df.groupby('DATA').sum()\n",
    "df.head(10)"
   ]
  },
  {
   "cell_type": "code",
   "execution_count": 7,
   "metadata": {},
   "outputs": [],
   "source": [
    "df.to_csv('csv/serieStorica_decessi_tot.csv')"
   ]
  },
  {
   "cell_type": "markdown",
   "metadata": {},
   "source": [
    "Il file `sereiStorica_decessi_tot.csv` sarà impiegato per la creazione del modello predittivo <b>ARIMA</b> e <b>SARIMA</b>."
   ]
  },
  {
   "cell_type": "code",
   "execution_count": null,
   "metadata": {},
   "outputs": [],
   "source": []
  }
 ],
 "metadata": {
  "kernelspec": {
   "display_name": "Python 3",
   "language": "python",
   "name": "python3"
  },
  "language_info": {
   "codemirror_mode": {
    "name": "ipython",
    "version": 3
   },
   "file_extension": ".py",
   "mimetype": "text/x-python",
   "name": "python",
   "nbconvert_exporter": "python",
   "pygments_lexer": "ipython3",
   "version": "3.8.3"
  }
 },
 "nbformat": 4,
 "nbformat_minor": 4
}

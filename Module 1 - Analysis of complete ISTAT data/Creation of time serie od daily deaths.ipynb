{
 "cells": [
  {
   "cell_type": "markdown",
   "metadata": {},
   "source": [
    "<h1> \n",
    "Creation of time series of daily deaths from 2015 to 30 April 2020 </h1>"
   ]
  },
  {
   "cell_type": "code",
   "execution_count": 1,
   "metadata": {},
   "outputs": [
    {
     "data": {
      "text/html": [
       "<div>\n",
       "<style scoped>\n",
       "    .dataframe tbody tr th:only-of-type {\n",
       "        vertical-align: middle;\n",
       "    }\n",
       "\n",
       "    .dataframe tbody tr th {\n",
       "        vertical-align: top;\n",
       "    }\n",
       "\n",
       "    .dataframe thead th {\n",
       "        text-align: right;\n",
       "    }\n",
       "</style>\n",
       "<table border=\"1\" class=\"dataframe\">\n",
       "  <thead>\n",
       "    <tr style=\"text-align: right;\">\n",
       "      <th></th>\n",
       "      <th>REG</th>\n",
       "      <th>PROV</th>\n",
       "      <th>NOME_REGIONE</th>\n",
       "      <th>NOME_PROVINCIA</th>\n",
       "      <th>NOME_COMUNE</th>\n",
       "      <th>COD_PROVCOM</th>\n",
       "      <th>TIPO_COMUNE</th>\n",
       "      <th>CL_ETA</th>\n",
       "      <th>GE</th>\n",
       "      <th>Data</th>\n",
       "      <th>Maschi</th>\n",
       "      <th>Femmine</th>\n",
       "      <th>Totale</th>\n",
       "    </tr>\n",
       "  </thead>\n",
       "  <tbody>\n",
       "    <tr>\n",
       "      <th>0</th>\n",
       "      <td>1</td>\n",
       "      <td>1</td>\n",
       "      <td>Piemonte</td>\n",
       "      <td>Torino</td>\n",
       "      <td>Agliè</td>\n",
       "      <td>1001</td>\n",
       "      <td>1</td>\n",
       "      <td>7</td>\n",
       "      <td>609</td>\n",
       "      <td>09-06-2015</td>\n",
       "      <td>0</td>\n",
       "      <td>0</td>\n",
       "      <td>0</td>\n",
       "    </tr>\n",
       "    <tr>\n",
       "      <th>1</th>\n",
       "      <td>1</td>\n",
       "      <td>1</td>\n",
       "      <td>Piemonte</td>\n",
       "      <td>Torino</td>\n",
       "      <td>Agliè</td>\n",
       "      <td>1001</td>\n",
       "      <td>1</td>\n",
       "      <td>7</td>\n",
       "      <td>609</td>\n",
       "      <td>09-06-2016</td>\n",
       "      <td>0</td>\n",
       "      <td>0</td>\n",
       "      <td>0</td>\n",
       "    </tr>\n",
       "    <tr>\n",
       "      <th>2</th>\n",
       "      <td>1</td>\n",
       "      <td>1</td>\n",
       "      <td>Piemonte</td>\n",
       "      <td>Torino</td>\n",
       "      <td>Agliè</td>\n",
       "      <td>1001</td>\n",
       "      <td>1</td>\n",
       "      <td>7</td>\n",
       "      <td>609</td>\n",
       "      <td>09-06-2017</td>\n",
       "      <td>0</td>\n",
       "      <td>0</td>\n",
       "      <td>0</td>\n",
       "    </tr>\n",
       "    <tr>\n",
       "      <th>3</th>\n",
       "      <td>1</td>\n",
       "      <td>1</td>\n",
       "      <td>Piemonte</td>\n",
       "      <td>Torino</td>\n",
       "      <td>Agliè</td>\n",
       "      <td>1001</td>\n",
       "      <td>1</td>\n",
       "      <td>7</td>\n",
       "      <td>609</td>\n",
       "      <td>09-06-2018</td>\n",
       "      <td>0</td>\n",
       "      <td>0</td>\n",
       "      <td>0</td>\n",
       "    </tr>\n",
       "    <tr>\n",
       "      <th>4</th>\n",
       "      <td>1</td>\n",
       "      <td>1</td>\n",
       "      <td>Piemonte</td>\n",
       "      <td>Torino</td>\n",
       "      <td>Agliè</td>\n",
       "      <td>1001</td>\n",
       "      <td>1</td>\n",
       "      <td>7</td>\n",
       "      <td>609</td>\n",
       "      <td>09-06-2019</td>\n",
       "      <td>1</td>\n",
       "      <td>0</td>\n",
       "      <td>1</td>\n",
       "    </tr>\n",
       "  </tbody>\n",
       "</table>\n",
       "</div>"
      ],
      "text/plain": [
       "   REG  PROV NOME_REGIONE NOME_PROVINCIA NOME_COMUNE  COD_PROVCOM  \\\n",
       "0    1     1     Piemonte         Torino       Agliè         1001   \n",
       "1    1     1     Piemonte         Torino       Agliè         1001   \n",
       "2    1     1     Piemonte         Torino       Agliè         1001   \n",
       "3    1     1     Piemonte         Torino       Agliè         1001   \n",
       "4    1     1     Piemonte         Torino       Agliè         1001   \n",
       "\n",
       "   TIPO_COMUNE  CL_ETA   GE        Data Maschi Femmine Totale  \n",
       "0            1       7  609  09-06-2015      0       0      0  \n",
       "1            1       7  609  09-06-2016      0       0      0  \n",
       "2            1       7  609  09-06-2017      0       0      0  \n",
       "3            1       7  609  09-06-2018      0       0      0  \n",
       "4            1       7  609  09-06-2019      1       0      1  "
      ]
     },
     "execution_count": 1,
     "metadata": {},
     "output_type": "execute_result"
    }
   ],
   "source": [
    "import pandas as pd\n",
    "df = pd.read_csv('csv/deaths.csv', encoding = \"ISO-8859-1\")\n",
    "df.head()"
   ]
  },
  {
   "cell_type": "code",
   "execution_count": 9,
   "metadata": {},
   "outputs": [],
   "source": [
    "df.rename(columns={' Data': 'Data'}, inplace=True)"
   ]
  },
  {
   "cell_type": "markdown",
   "metadata": {},
   "source": [
    "\n",
    "The DataFrame has been reworked eliminating unnecessary information for research purposes. Therefore, the fields relating to the place of death and the sex of the deceased have been eliminated.\n",
    "\n",
    "The fields needed to create a time series are the `Data` field and the` Totale` field which contains the number of deaths that occurred in a given municipality on a given date."
   ]
  },
  {
   "cell_type": "code",
   "execution_count": 3,
   "metadata": {},
   "outputs": [
    {
     "data": {
      "text/html": [
       "<div>\n",
       "<style scoped>\n",
       "    .dataframe tbody tr th:only-of-type {\n",
       "        vertical-align: middle;\n",
       "    }\n",
       "\n",
       "    .dataframe tbody tr th {\n",
       "        vertical-align: top;\n",
       "    }\n",
       "\n",
       "    .dataframe thead th {\n",
       "        text-align: right;\n",
       "    }\n",
       "</style>\n",
       "<table border=\"1\" class=\"dataframe\">\n",
       "  <thead>\n",
       "    <tr style=\"text-align: right;\">\n",
       "      <th></th>\n",
       "      <th>Data</th>\n",
       "      <th>Totale</th>\n",
       "    </tr>\n",
       "  </thead>\n",
       "  <tbody>\n",
       "    <tr>\n",
       "      <th>0</th>\n",
       "      <td>09-06-2015</td>\n",
       "      <td>0</td>\n",
       "    </tr>\n",
       "    <tr>\n",
       "      <th>1</th>\n",
       "      <td>09-06-2016</td>\n",
       "      <td>0</td>\n",
       "    </tr>\n",
       "    <tr>\n",
       "      <th>2</th>\n",
       "      <td>09-06-2017</td>\n",
       "      <td>0</td>\n",
       "    </tr>\n",
       "    <tr>\n",
       "      <th>3</th>\n",
       "      <td>09-06-2018</td>\n",
       "      <td>0</td>\n",
       "    </tr>\n",
       "    <tr>\n",
       "      <th>4</th>\n",
       "      <td>09-06-2019</td>\n",
       "      <td>1</td>\n",
       "    </tr>\n",
       "  </tbody>\n",
       "</table>\n",
       "</div>"
      ],
      "text/plain": [
       "         Data Totale\n",
       "0  09-06-2015      0\n",
       "1  09-06-2016      0\n",
       "2  09-06-2017      0\n",
       "3  09-06-2018      0\n",
       "4  09-06-2019      1"
      ]
     },
     "execution_count": 3,
     "metadata": {},
     "output_type": "execute_result"
    }
   ],
   "source": [
    "df.drop(['REG', 'PROV', 'NOME_REGIONE', 'NOME_PROVINCIA', 'NOME_COMUNE', 'COD_PROVCOM', 'TIPO_COMUNE',\n",
    "                 'CL_ETA', 'GE', 'Maschi', 'Femmine'], axis=1, inplace=True)\n",
    "df.head()"
   ]
  },
  {
   "cell_type": "markdown",
   "metadata": {},
   "source": [
    "\n",
    "The irrelevant values ​​from the `Totale` field were then deleted."
   ]
  },
  {
   "cell_type": "code",
   "execution_count": 4,
   "metadata": {},
   "outputs": [],
   "source": [
    "df=df.set_index('Totale')\n",
    "df=df.drop('n.d.', axis=0)\n",
    "df=df.drop('0', axis=0)\n",
    "df=df.reset_index()"
   ]
  },
  {
   "cell_type": "markdown",
   "metadata": {},
   "source": [
    "In order to add the `Totale` field based on the value of the` Data` field it is necessary to make the parameters of the `Date` field of type` datetime` and the parameters of the `Totale` field of type` int64`, so as to create a <b> historical series </b> where for each daily date from <b> 1 January 2015 </b> to <b> 30 April 2020 </b>, the total number of deaths registered in the municipalities present in the initial DataFrame is indicated."
   ]
  },
  {
   "cell_type": "code",
   "execution_count": 5,
   "metadata": {},
   "outputs": [
    {
     "name": "stdout",
     "output_type": "stream",
     "text": [
      "<class 'pandas.core.frame.DataFrame'>\n",
      "RangeIndex: 2913997 entries, 0 to 2913996\n",
      "Data columns (total 2 columns):\n",
      " #   Column  Dtype         \n",
      "---  ------  -----         \n",
      " 0   Totale  int64         \n",
      " 1   Data    datetime64[ns]\n",
      "dtypes: datetime64[ns](1), int64(1)\n",
      "memory usage: 44.5 MB\n"
     ]
    }
   ],
   "source": [
    "df['Data'] = pd.to_datetime(df['Data'], format='%d-%m-%Y')\n",
    "df['Totale'] = pd.to_numeric(df['Totale'])\n",
    "df.info()"
   ]
  },
  {
   "cell_type": "code",
   "execution_count": 7,
   "metadata": {},
   "outputs": [
    {
     "data": {
      "text/html": [
       "<div>\n",
       "<style scoped>\n",
       "    .dataframe tbody tr th:only-of-type {\n",
       "        vertical-align: middle;\n",
       "    }\n",
       "\n",
       "    .dataframe tbody tr th {\n",
       "        vertical-align: top;\n",
       "    }\n",
       "\n",
       "    .dataframe thead th {\n",
       "        text-align: right;\n",
       "    }\n",
       "</style>\n",
       "<table border=\"1\" class=\"dataframe\">\n",
       "  <thead>\n",
       "    <tr style=\"text-align: right;\">\n",
       "      <th></th>\n",
       "      <th>Totale</th>\n",
       "    </tr>\n",
       "    <tr>\n",
       "      <th>Data</th>\n",
       "      <th></th>\n",
       "    </tr>\n",
       "  </thead>\n",
       "  <tbody>\n",
       "    <tr>\n",
       "      <th>2015-01-01</th>\n",
       "      <td>2632</td>\n",
       "    </tr>\n",
       "    <tr>\n",
       "      <th>2015-01-02</th>\n",
       "      <td>2182</td>\n",
       "    </tr>\n",
       "    <tr>\n",
       "      <th>2015-01-03</th>\n",
       "      <td>2215</td>\n",
       "    </tr>\n",
       "    <tr>\n",
       "      <th>2015-01-04</th>\n",
       "      <td>2264</td>\n",
       "    </tr>\n",
       "    <tr>\n",
       "      <th>2015-01-05</th>\n",
       "      <td>2301</td>\n",
       "    </tr>\n",
       "  </tbody>\n",
       "</table>\n",
       "</div>"
      ],
      "text/plain": [
       "            Totale\n",
       "Data              \n",
       "2015-01-01    2632\n",
       "2015-01-02    2182\n",
       "2015-01-03    2215\n",
       "2015-01-04    2264\n",
       "2015-01-05    2301"
      ]
     },
     "execution_count": 7,
     "metadata": {},
     "output_type": "execute_result"
    }
   ],
   "source": [
    "df=df.groupby('Data').sum()\n",
    "df.head()"
   ]
  },
  {
   "cell_type": "code",
   "execution_count": 8,
   "metadata": {},
   "outputs": [],
   "source": [
    "df.to_csv('csv/decessi_tot.csv')"
   ]
  },
  {
   "cell_type": "markdown",
   "metadata": {},
   "source": [
    "\n",
    "The `deaths_tot.csv` file will be used to build the <b> ARIMA </b> predictive model."
   ]
  },
  {
   "cell_type": "code",
   "execution_count": null,
   "metadata": {},
   "outputs": [],
   "source": []
  }
 ],
 "metadata": {
  "kernelspec": {
   "display_name": "Python 3",
   "language": "python",
   "name": "python3"
  },
  "language_info": {
   "codemirror_mode": {
    "name": "ipython",
    "version": 3
   },
   "file_extension": ".py",
   "mimetype": "text/x-python",
   "name": "python",
   "nbconvert_exporter": "python",
   "pygments_lexer": "ipython3",
   "version": "3.8.3"
  }
 },
 "nbformat": 4,
 "nbformat_minor": 4
}
